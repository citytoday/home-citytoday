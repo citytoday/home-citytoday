{
 "cells": [
  {
   "cell_type": "code",
   "execution_count": 2,
   "metadata": {
    "collapsed": false
   },
   "outputs": [
    {
     "name": "stdout",
     "output_type": "stream",
     "text": [
      "31 new artifact(s)"
     ]
    },
    {
     "name": "stderr",
     "output_type": "stream",
     "text": [
      "31 new artifacts in macro\n"
     ]
    },
    {
     "name": "stdout",
     "output_type": "stream",
     "text": [
      "\n"
     ]
    },
    {
     "name": "stderr",
     "output_type": "stream",
     "text": [
      "31 new artifacts in runtime\n",
      "31 new artifacts in compile\n"
     ]
    },
    {
     "data": {
      "text/plain": []
     },
     "metadata": {},
     "output_type": "display_data"
    }
   ],
   "source": [
    "classpath.add(\n",
    "  \"org.jsoup\" % \"jsoup\" % \"1.9.2\",\n",
    "  \"org.scalaj\" %% \"scalaj-http\" % \"2.3.0\",\n",
    "  \"net.sourceforge.htmlcleaner\" % \"htmlcleaner\" % \"2.16\",\n",
    "  \"net.ruippeixotog\" %% \"scala-scraper\" % \"1.0.0\"\n",
    ")"
   ]
  },
  {
   "cell_type": "code",
   "execution_count": 3,
   "metadata": {
    "collapsed": false
   },
   "outputs": [
    {
     "data": {
      "text/plain": [
       "\u001b[32mimport \u001b[36mnet.ruippeixotog.scalascraper.dsl.DSL._\u001b[0m\n",
       "\u001b[32mimport \u001b[36mnet.ruippeixotog.scalascraper.dsl.DSL.Extract._\u001b[0m\n",
       "\u001b[32mimport \u001b[36mnet.ruippeixotog.scalascraper.dsl.DSL.Parse._\u001b[0m\n",
       "\u001b[32mimport \u001b[36mnet.ruippeixotog.scalascraper.browser.JsoupBrowser\u001b[0m\n",
       "\u001b[32mimport \u001b[36morg.joda.time.DateTime\u001b[0m\n",
       "\u001b[32mimport \u001b[36mjava.net.URL\u001b[0m\n",
       "defined \u001b[32mobject \u001b[36mUtils\u001b[0m\n",
       "\u001b[32mimport \u001b[36mscalaj.http._\u001b[0m\n",
       "\u001b[36mbrowser\u001b[0m: \u001b[32mnet\u001b[0m.\u001b[32mruippeixotog\u001b[0m.\u001b[32mscalascraper\u001b[0m.\u001b[32mbrowser\u001b[0m.\u001b[32mJsoupBrowser\u001b[0m = net.ruippeixotog.scalascraper.browser.JsoupBrowser@214837db"
      ]
     },
     "metadata": {},
     "output_type": "display_data"
    }
   ],
   "source": [
    "import net.ruippeixotog.scalascraper.dsl.DSL._\n",
    "import net.ruippeixotog.scalascraper.dsl.DSL.Extract._\n",
    "import net.ruippeixotog.scalascraper.dsl.DSL.Parse._\n",
    "import net.ruippeixotog.scalascraper.browser.JsoupBrowser\n",
    "import org.joda.time.DateTime\n",
    "\n",
    "import java.net.URL\n",
    "\n",
    "/**\n",
    " * Created by fabiofumarola on 13/08/16.\n",
    " */\n",
    "object Utils {\n",
    "\n",
    "  /**\n",
    "    *\n",
    "    * @param absolute\n",
    "    * @param relative\n",
    "    * @return the absolute url obtained from the relative one\n",
    "    */\n",
    "  def makeUrlAbsolute(absolute: String, relative: String): String = {\n",
    "      val base = new URL(absolute)\n",
    "      new URL(base, relative).toExternalForm\n",
    "\n",
    "  }\n",
    "}\n",
    "\n",
    "import scalaj.http._\n",
    "\n",
    "val browser = JsoupBrowser()"
   ]
  },
  {
   "cell_type": "code",
   "execution_count": 4,
   "metadata": {
    "collapsed": false
   },
   "outputs": [
    {
     "data": {
      "text/plain": [
       "\u001b[36mpage\u001b[0m: \u001b[32mInt\u001b[0m = \u001b[32m1\u001b[0m"
      ]
     },
     "metadata": {},
     "output_type": "display_data"
    }
   ],
   "source": [
    "val page = 1"
   ]
  },
  {
   "cell_type": "code",
   "execution_count": 5,
   "metadata": {
    "collapsed": false
   },
   "outputs": [
    {
     "data": {
      "text/plain": [
       "\u001b[36murlList\u001b[0m: \u001b[32mString\u001b[0m = \u001b[32m\"http://www.casa.it/vendita-residenziale/dimensione-80-qualsiasi-in-repubblica%2f+stazione+centrale%2c+milano%2c+mi%2c+lombardia%3b+buenos+aires%2f+indipendenza%2f+p.ta+venezia%2c+milano%2c+mi%2c+lombardia%3b+v+giornate%2f+xxii+marzo%2f+porta+romana%2c+milano%2c+mi%2c+lombardia%3b+bocconi%2f+c.so+italia%2f+ticinese%2c+milano%2c+mi%2c+lombardia%3b+p.ta+genova%2f+romolo%2f+solari%2c+milano%2c+mi%2c+lombardia%3b+de+angeli%2f+vercelli%2f+washinghton%2c+milano%2c+mi%2c+lombardia%3b+fiera%2f+firenze%2f+sempione%2f+paolo+sarpi%2farena%2c+milano%2c+mi%2c+lombardia%3b+garibaldi%2f+isola%2f+maciachini%2f+monumentale%2c+milano%2c+mi%2c+lombardia%3b/lista-1\"\u001b[0m"
      ]
     },
     "metadata": {},
     "output_type": "display_data"
    }
   ],
   "source": [
    "val urlList = s\"http://www.casa.it/vendita-residenziale/dimensione-80-qualsiasi-in-repubblica%2f+stazione+centrale%2c+milano%2c+mi%2c+lombardia%3b+buenos+aires%2f+indipendenza%2f+p.ta+venezia%2c+milano%2c+mi%2c+lombardia%3b+v+giornate%2f+xxii+marzo%2f+porta+romana%2c+milano%2c+mi%2c+lombardia%3b+bocconi%2f+c.so+italia%2f+ticinese%2c+milano%2c+mi%2c+lombardia%3b+p.ta+genova%2f+romolo%2f+solari%2c+milano%2c+mi%2c+lombardia%3b+de+angeli%2f+vercelli%2f+washinghton%2c+milano%2c+mi%2c+lombardia%3b+fiera%2f+firenze%2f+sempione%2f+paolo+sarpi%2farena%2c+milano%2c+mi%2c+lombardia%3b+garibaldi%2f+isola%2f+maciachini%2f+monumentale%2c+milano%2c+mi%2c+lombardia%3b/lista-$page\""
   ]
  },
  {
   "cell_type": "code",
   "execution_count": 7,
   "metadata": {
    "collapsed": false
   },
   "outputs": [
    {
     "data": {
      "text/plain": [
       "\u001b[36mhtmlList\u001b[0m: \u001b[32mString\u001b[0m = \u001b[32m\"\"\"\n",
       "<!DOCTYPE html><html lang=\"it\"><head itemscope=\"\"><meta charset=\"utf-8\"/><meta name=\"viewport\" content=\"width=device-width, user-scalable=no, initial-scale=1.0, minimum-scale=1.0, maximum-scale=1.0\"/><meta content=\"IE=11\" http-equiv=\"x-ua-compatible\"/><meta http-equiv=\"content-type\" content=\"text/html;charset=UTF-8\"/><link rel=\"shortcut icon\" href=\"/portal/assets/favicon.ico\" type=\"image/x-icon\"/><title data-react-helmet=\"true\">Vendita case a Repubblica  stazione centrale,  buenos aires  indipendenza  p.ta venezia,  v giornate  xxii marzo  porta romana,  bocconi  c.so italia  ticinese,  p.ta genova  romolo  solari,  de angeli  vercelli  washinghton,  fiera  firenze  sempione  paolo sarpi arena,  garibaldi  isola  maciachini  monumentale - Casa.it</title><meta data-react-helmet=\"true\" name=\"description\" content=\"Scopri i 7.914 annunci immobiliari di Case In Vendita a Repubblica  stazione centrale,  buenos aires  indipendenza  p.ta venezia,  v giornate  xxii marzo  porta romana,  bocconi  c.so italia  ticinese,  p.ta genova  romolo  solari,  de angeli  vercelli  washinghton,  fiera  firenze  sempione  paolo sarpi arena,  garibaldi  isola  maciachini  monumentale e scegli la soluzione giusta per te. Qualunque casa cerchi, è già su Casa.it!\"/><meta data-react-helmet=\"true\" name=\"robots\" content=\"index, follow\"/><meta data-react-helmet=\"true\" itemprop=\"name\" content=\"Vendita case a Repubblica  stazione centrale,  buenos aires  indipendenza  p.ta venezia,  v giornate  xxii marzo  porta romana,  boccon\u001b[33m...\u001b[0m\n",
       "\u001b[36mdocList\u001b[0m: \u001b[32mnet\u001b[0m.\u001b[32mruippeixotog\u001b[0m.\u001b[32mscalascraper\u001b[0m.\u001b[32mmodel\u001b[0m.\u001b[32mDocument\u001b[0m = JsoupDocument(<!doctype html>\n",
       "<html lang=\"it\">\n",
       " <head itemscope>\n",
       "  <meta charset=\"utf-8\">\n",
       "  <meta name=\"viewport\" content=\"width=device-width, user-scalable=no, initial-scale=1.0, minimum-scale=1.0, maximum-scale=1.0\">\n",
       "  <meta content=\"IE=11\" http-equiv=\"x-ua-compatible\">\n",
       "  <meta http-equiv=\"content-type\" content=\"text/html;charset=UTF-8\">\n",
       "  <link rel=\"shortcut icon\" href=\"/portal/assets/favicon.ico\" type=\"image/x-icon\">\n",
       "  <title data-react-helmet=\"true\">Vendita case a Repubblica  stazione centrale,  buenos aires  indipendenza  p.ta venezia,  v giornate  xxii marzo  porta romana,  bocconi  c.so italia  ticinese,  p.ta genova  romolo  solari,  de angeli  vercelli  washinghton,  fiera  firenze  sempione  paolo sarpi arena,  garibaldi  isola  maciachini  monumentale - Casa.it</title>\n",
       "  <meta data-react-helmet=\"true\" name=\"description\" content=\"Scopri i 7.914 annunci immobiliari di Case In Vendita a Repubblica  stazione centrale,  buenos aires  indipendenza  p.ta venezia,  v giornate  xxii marzo  porta romana,  bocconi  c.so italia  ticinese,  p.ta genova  romolo  solari,  de angeli  vercelli  washinghton,  fiera  firenze  sempione  paolo sarpi arena,  garibaldi  isola  maciach\u001b[33m...\u001b[0m"
      ]
     },
     "metadata": {},
     "output_type": "display_data"
    }
   ],
   "source": [
    "val htmlList = Http(urlList).asString.body\n",
    "val docList = browser.parseString(htmlList)"
   ]
  },
  {
   "cell_type": "code",
   "execution_count": 9,
   "metadata": {
    "collapsed": false
   },
   "outputs": [
    {
     "data": {
      "text/plain": [
       "\u001b[36mlistings\u001b[0m: \u001b[32mList\u001b[0m[\u001b[32mnet\u001b[0m.\u001b[32mruippeixotog\u001b[0m.\u001b[32mscalascraper\u001b[0m.\u001b[32mmodel\u001b[0m.\u001b[32mElement\u001b[0m] = \u001b[33mList\u001b[0m(\n",
       "  JsoupElement(<li data-reactid=\".ophb3ey6m8.2.0.2.0.2.$31224112\"><a href=\"/immobile-appartamento-lombardia-milano-31224112\" data-reactid=\".ophb3ey6m8.2.0.2.0.2.$31224112.0\">\n",
       "  <div class=\"list-item\" data-reactid=\".ophb3ey6m8.2.0.2.0.2.$31224112.0.0\">\n",
       "   <div class=\"list-item-photo special\" data-reactid=\".ophb3ey6m8.2.0.2.0.2.$31224112.0.0.0\">\n",
       "    <div class=\"main-nav\" data-reactid=\".ophb3ey6m8.2.0.2.0.2.$31224112.0.0.0.0\">\n",
       "     <button class=\"prev\" disabled data-reactid=\".ophb3ey6m8.2.0.2.0.2.$31224112.0.0.0.0.0\"></button>\n",
       "     <button class=\"next\" data-reactid=\".ophb3ey6m8.2.0.2.0.2.$31224112.0.0.0.0.1\"></button>\n",
       "    </div>\n",
       "    <div class=\"list-item-class\" data-reactid=\".ophb3ey6m8.2.0.2.0.2.$31224112.0.0.0.1\">\n",
       "     <div class=\"depth\" style=\"color:#ffffff;background-color:#c40521;\" data-reactid=\".ophb3ey6m8.2.0.2.0.2.$31224112.0.0.0.1.1\">\n",
       "      Premiere Special\n",
       "     </div>\n",
       "\u001b[33m...\u001b[0m"
      ]
     },
     "metadata": {},
     "output_type": "display_data"
    }
   ],
   "source": [
    "val listings = docList >> elementList(\"ul.listing-list > li\")"
   ]
  },
  {
   "cell_type": "code",
   "execution_count": 10,
   "metadata": {
    "collapsed": false
   },
   "outputs": [
    {
     "data": {
      "text/plain": [
       "\u001b[36me\u001b[0m: \u001b[32mnet\u001b[0m.\u001b[32mruippeixotog\u001b[0m.\u001b[32mscalascraper\u001b[0m.\u001b[32mmodel\u001b[0m.\u001b[32mElement\u001b[0m = JsoupElement(<li data-reactid=\".ophb3ey6m8.2.0.2.0.2.$31224112\"><a href=\"/immobile-appartamento-lombardia-milano-31224112\" data-reactid=\".ophb3ey6m8.2.0.2.0.2.$31224112.0\">\n",
       "  <div class=\"list-item\" data-reactid=\".ophb3ey6m8.2.0.2.0.2.$31224112.0.0\">\n",
       "   <div class=\"list-item-photo special\" data-reactid=\".ophb3ey6m8.2.0.2.0.2.$31224112.0.0.0\">\n",
       "    <div class=\"main-nav\" data-reactid=\".ophb3ey6m8.2.0.2.0.2.$31224112.0.0.0.0\">\n",
       "     <button class=\"prev\" disabled data-reactid=\".ophb3ey6m8.2.0.2.0.2.$31224112.0.0.0.0.0\"></button>\n",
       "     <button class=\"next\" data-reactid=\".ophb3ey6m8.2.0.2.0.2.$31224112.0.0.0.0.1\"></button>\n",
       "    </div>\n",
       "    <div class=\"list-item-class\" data-reactid=\".ophb3ey6m8.2.0.2.0.2.$31224112.0.0.0.1\">\n",
       "     <div class=\"depth\" style=\"color:#ffffff;background-color:#c40521;\" data-reactid=\".ophb3ey6m8.2.0.2.0.2.$31224112.0.0.0.1.1\">\n",
       "      Premiere Special\n",
       "     </div>\n",
       "    </div>\n",
       "\u001b[33m...\u001b[0m"
      ]
     },
     "metadata": {},
     "output_type": "display_data"
    }
   ],
   "source": [
    "val e = listings.head"
   ]
  },
  {
   "cell_type": "code",
   "execution_count": 17,
   "metadata": {
    "collapsed": false,
    "scrolled": true
   },
   "outputs": [
    {
     "data": {
      "text/plain": [
       "\u001b[36mid\u001b[0m: \u001b[32mOption\u001b[0m[\u001b[32mString\u001b[0m] = \u001b[33mSome\u001b[0m(\u001b[32m\"31224112\"\u001b[0m)"
      ]
     },
     "metadata": {},
     "output_type": "display_data"
    }
   ],
   "source": [
    "val id = e >?> attr(\"data-reactid\")(\"li\")\n",
    " .map(e => e.substring(e.indexOf(\"$\") + 1))"
   ]
  },
  {
   "cell_type": "code",
   "execution_count": 18,
   "metadata": {
    "collapsed": false
   },
   "outputs": [
    {
     "data": {
      "text/plain": [
       "\u001b[36msrc\u001b[0m: \u001b[32mString\u001b[0m = \u001b[32m\"casa.it\"\u001b[0m"
      ]
     },
     "metadata": {},
     "output_type": "display_data"
    }
   ],
   "source": [
    "val src = \"casa.it\""
   ]
  },
  {
   "cell_type": "code",
   "execution_count": 20,
   "metadata": {
    "collapsed": false
   },
   "outputs": [
    {
     "data": {
      "text/plain": [
       "\u001b[36mtitle\u001b[0m: \u001b[32mOption\u001b[0m[\u001b[32mString\u001b[0m] = \u001b[33mSome\u001b[0m(\u001b[32m\"Via Palestrina 33, Milano (MI)\"\u001b[0m)"
      ]
     },
     "metadata": {},
     "output_type": "display_data"
    }
   ],
   "source": [
    "val title = e >?> text(\"div.title > h2\")"
   ]
  },
  {
   "cell_type": "code",
   "execution_count": 22,
   "metadata": {
    "collapsed": false
   },
   "outputs": [
    {
     "data": {
      "text/plain": [
       "\u001b[36murl\u001b[0m: \u001b[32mOption\u001b[0m[\u001b[32mString\u001b[0m] = \u001b[33mSome\u001b[0m(\u001b[32m\"http://www.casa.it/immobile-appartamento-lombardia-milano-31224112\"\u001b[0m)"
      ]
     },
     "metadata": {},
     "output_type": "display_data"
    }
   ],
   "source": [
    "val url = e >?> attr(\"href\")(\"a\")\n",
    " .map(Utils.makeUrlAbsolute(urlList,_))"
   ]
  },
  {
   "cell_type": "code",
   "execution_count": 23,
   "metadata": {
    "collapsed": false
   },
   "outputs": [
    {
     "data": {
      "text/plain": [
       "\u001b[36mprice\u001b[0m: \u001b[32mOption\u001b[0m[\u001b[32mString\u001b[0m] = \u001b[33mSome\u001b[0m(\u001b[32m\"€ 550.000\"\u001b[0m)"
      ]
     },
     "metadata": {},
     "output_type": "display_data"
    }
   ],
   "source": [
    "val price = e >?> text(\"ul > li.price\")"
   ]
  },
  {
   "cell_type": "code",
   "execution_count": 30,
   "metadata": {
    "collapsed": false
   },
   "outputs": [
    {
     "data": {
      "text/plain": [
       "\u001b[36mcategory\u001b[0m: \u001b[32mOption\u001b[0m[\u001b[32mString\u001b[0m] = \u001b[33mSome\u001b[0m(\u001b[32m\"Appartamento\"\u001b[0m)"
      ]
     },
     "metadata": {},
     "output_type": "display_data"
    }
   ],
   "source": [
    "val category = e >?> text(\"span.optional-zone\")"
   ]
  },
  {
   "cell_type": "code",
   "execution_count": 31,
   "metadata": {
    "collapsed": false
   },
   "outputs": [
    {
     "data": {
      "text/plain": [
       "\u001b[36mlocation\u001b[0m: \u001b[32mOption\u001b[0m[\u001b[32mString\u001b[0m] = \u001b[33mSome\u001b[0m(\u001b[32m\"Buenos Aires/ Indipendenza/ P.ta Venezia\"\u001b[0m)"
      ]
     },
     "metadata": {},
     "output_type": "display_data"
    }
   ],
   "source": [
    "val location = e >?> text(\"span.zone\")"
   ]
  },
  {
   "cell_type": "markdown",
   "metadata": {},
   "source": [
    "## Detail"
   ]
  },
  {
   "cell_type": "code",
   "execution_count": 32,
   "metadata": {
    "collapsed": false
   },
   "outputs": [
    {
     "data": {
      "text/plain": [
       "\u001b[36murlDet\u001b[0m: \u001b[32mString\u001b[0m = \u001b[32m\"http://www.casa.it/immobile-appartamento-lombardia-milano-29937488\"\u001b[0m\n",
       "\u001b[36mhtml\u001b[0m: \u001b[32mString\u001b[0m = \u001b[32m\"\"\"\n",
       "<!DOCTYPE html><html lang=\"it\"><head itemscope=\"\"><meta charset=\"utf-8\"/><meta name=\"viewport\" content=\"width=device-width, user-scalable=no, initial-scale=1.0, minimum-scale=1.0, maximum-scale=1.0\"/><meta content=\"IE=11\" http-equiv=\"x-ua-compatible\"/><meta http-equiv=\"content-type\" content=\"text/html;charset=UTF-8\"/><link rel=\"shortcut icon\" href=\"/portal/assets/favicon.ico\" type=\"image/x-icon\"/><title data-react-helmet=\"true\">Appartamento in vendita a Milano, Via Monte Suello 2 - 29937488 - Casa.it</title><meta data-react-helmet=\"true\" name=\"description\" content=\"Argonne – Corsica, Via Monte Suello, vendesi appartamento mq. 95 completamente ristrutturato, posto al primo piano con tripla esposizione, di uno stabile medio signorile degli anni venti con ottime finiture. Abitazione composta da ingresso, soggiorno, cucina abitabile con balcone, due camere da letto, doppi servizi, ripostiglio e cantina. L’ immobile è dotato di riscaldamento centralizzato con termo valvole e dalla prossima stagione avrà il teleriscaldamento, aria condizionata, pavimenti in parquet e monocottura. Euro 340.000, libero al rogito. &lt;br /&gt;Classe energetica G, Ipe 199.13.&lt;br /&gt;Per ulteriori informazioni o appuntamento Tel. 02.730873. - Contatta l&#x27;Agenzia con il servizio &quot;Invia Richiesta&quot; iare.it&lt;br /&gt;\"/><meta data-react-helmet=\"true\" name=\"robots\" content=\"index, follow\"/><meta data-react-helmet=\"true\" itemprop=\"name\" content=\"Appartamento in Residenziale\"/><meta data-react-helmet=\"true\" ite\u001b[33m...\u001b[0m"
      ]
     },
     "metadata": {},
     "output_type": "display_data"
    }
   ],
   "source": [
    "val urlDet = \"http://www.casa.it/immobile-appartamento-lombardia-milano-29937488\"\n",
    "val html = Http(urlDet).asString.body"
   ]
  },
  {
   "cell_type": "code",
   "execution_count": 33,
   "metadata": {
    "collapsed": false
   },
   "outputs": [
    {
     "data": {
      "text/plain": [
       "\u001b[36mdocDet\u001b[0m: \u001b[32mnet\u001b[0m.\u001b[32mruippeixotog\u001b[0m.\u001b[32mscalascraper\u001b[0m.\u001b[32mmodel\u001b[0m.\u001b[32mDocument\u001b[0m = JsoupDocument(<!doctype html>\n",
       "<html lang=\"it\">\n",
       " <head itemscope>\n",
       "  <meta charset=\"utf-8\">\n",
       "  <meta name=\"viewport\" content=\"width=device-width, user-scalable=no, initial-scale=1.0, minimum-scale=1.0, maximum-scale=1.0\">\n",
       "  <meta content=\"IE=11\" http-equiv=\"x-ua-compatible\">\n",
       "  <meta http-equiv=\"content-type\" content=\"text/html;charset=UTF-8\">\n",
       "  <link rel=\"shortcut icon\" href=\"/portal/assets/favicon.ico\" type=\"image/x-icon\">\n",
       "  <title data-react-helmet=\"true\">Appartamento in vendita a Milano, Via Monte Suello 2 - 29937488 - Casa.it</title>\n",
       "  <meta data-react-helmet=\"true\" name=\"description\" content=\"Argonne – Corsica, Via Monte Suello, vendesi appartamento mq. 95 completamente ristrutturato, posto al primo piano con tripla esposizione, di uno stabile medio signorile degli anni venti con ottime finiture. Abitazione composta da ingresso, soggiorno, cucina abitabile con balcone, due camere da letto, doppi servizi, ripostiglio e cantina. L’ immobile è dotato di riscaldamento centralizzato con termo valvole e dalla prossima stagione avrà il teleriscaldamento, aria condizionata, pavimenti in parquet e monocottura. Euro 340.000, libero al rogito. <br />Classe energetica G, I\u001b[33m...\u001b[0m"
      ]
     },
     "metadata": {},
     "output_type": "display_data"
    }
   ],
   "source": [
    "val docDet = browser.parseString(html)"
   ]
  },
  {
   "cell_type": "code",
   "execution_count": 34,
   "metadata": {
    "collapsed": false
   },
   "outputs": [
    {
     "data": {
      "text/plain": [
       "\u001b[36mdateTime\u001b[0m: \u001b[32mOption\u001b[0m[\u001b[32mString\u001b[0m] = \u001b[33mSome\u001b[0m(\u001b[32m\"10 Agosto 2016\"\u001b[0m)"
      ]
     },
     "metadata": {},
     "output_type": "display_data"
    }
   ],
   "source": [
    "val dateTime = docDet >?> text(\"span.last-mod > span:nth-child(2)\")"
   ]
  },
  {
   "cell_type": "code",
   "execution_count": 35,
   "metadata": {
    "collapsed": false
   },
   "outputs": [
    {
     "data": {
      "text/plain": [
       "\u001b[36mdescription\u001b[0m: \u001b[32mOption\u001b[0m[\u001b[32mString\u001b[0m] = \u001b[33mSome\u001b[0m(\n",
       "  \u001b[32m\"\"\"\n",
       "Argonne – Corsica, Via Monte Suello, vendesi appartamento mq. 95 completamente ristrutturato, posto al primo piano con tripla esposizione, di uno stabile medio signorile degli anni venti con ottime finiture. Abitazione composta da ingresso, soggiorno, cucina abitabile con balcone, due camere da letto, doppi servizi, ripostiglio e cantina. L’ immobile è dotato di riscaldamento centralizzato con termo valvole e dalla prossima stagione avrà il teleriscaldamento, aria condizionata, pavimenti in parquet e monocottura. Euro 340.000, libero al rogito. Classe energetica G, Ipe 199.13. Per ulteriori informazioni o appuntamento Tel. 02.730873. - Contatta l'Agenzia con il servizio \"Invia Richiesta\" iare.it\n",
       "  \"\"\"\u001b[0m\n",
       ")"
      ]
     },
     "metadata": {},
     "output_type": "display_data"
    }
   ],
   "source": [
    "val description = docDet >?> text(\"div.description > p\")"
   ]
  },
  {
   "cell_type": "code",
   "execution_count": 42,
   "metadata": {
    "collapsed": false
   },
   "outputs": [
    {
     "data": {
      "text/plain": [
       "\u001b[36mimagesUrl\u001b[0m: \u001b[32mIterable\u001b[0m[\u001b[32mString\u001b[0m] = \u001b[33mList\u001b[0m(\n",
       "  \u001b[32m\"http://images-1.casa.it/189x135/props/71417/29937488/1/WKN594N.jpg\"\u001b[0m,\n",
       "  \u001b[32m\"http://images-1.casa.it/189x135/props/71417/29937488/2/FJ2VAPD.jpg\"\u001b[0m,\n",
       "  \u001b[32m\"http://images-1.casa.it/189x135/props/71417/29937488/3/XUE00EM.jpg\"\u001b[0m,\n",
       "  \u001b[32m\"http://images-1.casa.it/189x135/props/71417/29937488/4/SIELAVS.jpg\"\u001b[0m,\n",
       "  \u001b[32m\"http://images-1.casa.it/189x135/props/71417/29937488/5/UI9WS2M.jpg\"\u001b[0m,\n",
       "  \u001b[32m\"http://images-1.casa.it/189x135/props/71417/29937488/6/KMUK0DF.jpg\"\u001b[0m,\n",
       "  \u001b[32m\"http://images-1.casa.it/189x135/props/71417/29937488/7/AGMJYJX.jpg\"\u001b[0m,\n",
       "  \u001b[32m\"http://images-1.casa.it/189x135/props/71417/29937488/8/3SHZ9A1.jpg\"\u001b[0m,\n",
       "  \u001b[32m\"http://images-1.casa.it/189x135/props/71417/29937488/9/VJ0TFLY.jpg\"\u001b[0m,\n",
       "  \u001b[32m\"http://images-1.casa.it/189x135/props/71417/29937488/10/IT9WN20.jpg\"\u001b[0m,\n",
       "  \u001b[32m\"http://images-1.casa.it/189x135/floorplan/71417/29937488/1/I41OFYG.jpg\"\u001b[0m,\n",
       "  \u001b[32m\"http://images-1.casa.it/189x135/floorplan/71417/29937488/2/0SL9MC9.jpg\"\u001b[0m,\n",
       "  \u001b[32m\"http://images-1.casa.it/189x135/floorplan/71417/29937488/3/TBYHGBP.jpg\"\u001b[0m,\n",
       "  \u001b[32m\"http://images-1.casa.it/189x135/floorplan/71417/29937488/4/0DSJ7FL.jpg\"\u001b[0m\n",
       ")"
      ]
     },
     "metadata": {},
     "output_type": "display_data"
    }
   ],
   "source": [
    "val imagesUrl = (docDet >> attrs(\"src\")(\"div.image-gallery-thumbnails-container > ul > li > img\"))\n",
    " .map(_.replace(\"63x45\",\"189x135\"))"
   ]
  },
  {
   "cell_type": "code",
   "execution_count": 53,
   "metadata": {
    "collapsed": false
   },
   "outputs": [
    {
     "data": {
      "text/plain": [
       "\u001b[36mkeys\u001b[0m: \u001b[32mMap\u001b[0m[\u001b[32mString\u001b[0m, \u001b[32mString\u001b[0m] = \u001b[33mMap\u001b[0m(\n",
       "  \u001b[32m\"Totale Piani:\"\u001b[0m -> \u001b[32m\"5\"\u001b[0m,\n",
       "  \u001b[32m\"Metri quadri:\"\u001b[0m -> \u001b[32m\"95\"\u001b[0m,\n",
       "  \u001b[32m\"Bagni:\"\u001b[0m -> \u001b[32m\"2\"\u001b[0m,\n",
       "  \u001b[32m\"Locali:\"\u001b[0m -> \u001b[32m\"3\"\u001b[0m,\n",
       "  \u001b[32m\"Riscaldamento:\"\u001b[0m -> \u001b[32m\"centralizzato\"\u001b[0m,\n",
       "  \u001b[32m\"Condizioni:\"\u001b[0m -> \u001b[32m\"ristrutturato\"\u001b[0m,\n",
       "  \u001b[32m\"Ascensore:\"\u001b[0m -> \u001b[32m\"Si\"\u001b[0m,\n",
       "  \u001b[32m\"Giardino:\"\u001b[0m -> \u001b[32m\"comune\"\u001b[0m,\n",
       "  \u001b[32m\"Stato al Rogito:\"\u001b[0m -> \u001b[32m\"libero\"\u001b[0m,\n",
       "  \u001b[32m\"Spese Condominiali Mese:\"\u001b[0m -> \u001b[32m\"€ 250\"\u001b[0m,\n",
       "  \u001b[32m\"Piano:\"\u001b[0m -> \u001b[32m\"1\"\u001b[0m,\n",
       "  \u001b[32m\"Anno di costruzione:\"\u001b[0m -> \u001b[32m\"1920\"\u001b[0m,\n",
       "  \u001b[32m\"Balcone:\"\u001b[0m -> \u001b[32m\"Si\"\u001b[0m\n",
       ")"
      ]
     },
     "metadata": {},
     "output_type": "display_data"
    }
   ],
   "source": [
    "val keys = (docDet >> elementList(\"div.characteristics > div > ul > li\"))\n",
    "  .map{ e =>\n",
    "    val key = e >> text(\"li > b\")\n",
    "    val value = e >> text(\"li > span\")\n",
    "    key -> value\n",
    "} toMap"
   ]
  },
  {
   "cell_type": "code",
   "execution_count": 54,
   "metadata": {
    "collapsed": false
   },
   "outputs": [
    {
     "data": {
      "text/plain": [
       "\u001b[36mpublisher\u001b[0m: \u001b[32mString\u001b[0m = \u001b[32m\"LA MAISON IMMOBILIARE SRL\"\u001b[0m"
      ]
     },
     "metadata": {},
     "output_type": "display_data"
    }
   ],
   "source": [
    "val publisher = docDet >> text(\"div.agency-info > div > a\")"
   ]
  },
  {
   "cell_type": "code",
   "execution_count": null,
   "metadata": {
    "collapsed": true
   },
   "outputs": [],
   "source": []
  }
 ],
 "metadata": {
  "kernelspec": {
   "display_name": "Scala 2.11",
   "language": "scala211",
   "name": "scala211"
  },
  "language_info": {
   "codemirror_mode": "text/x-scala",
   "file_extension": ".scala",
   "mimetype": "text/x-scala",
   "name": "scala211",
   "pygments_lexer": "scala",
   "version": "2.11.8"
  }
 },
 "nbformat": 4,
 "nbformat_minor": 0
}
