{
 "cells": [
  {
   "cell_type": "code",
   "execution_count": 1,
   "metadata": {
    "collapsed": false
   },
   "outputs": [
    {
     "name": "stdout",
     "output_type": "stream",
     "text": [
      "31 new artifact(s)\n"
     ]
    },
    {
     "name": "stderr",
     "output_type": "stream",
     "text": [
      "31 new artifacts in macro\n",
      "31 new artifacts in runtime\n",
      "31 new artifacts in compile\n"
     ]
    },
    {
     "data": {
      "text/plain": []
     },
     "metadata": {},
     "output_type": "display_data"
    }
   ],
   "source": [
    "classpath.add(\n",
    "  \"org.jsoup\" % \"jsoup\" % \"1.9.2\",\n",
    "  \"org.scalaj\" %% \"scalaj-http\" % \"2.3.0\",\n",
    "  \"net.sourceforge.htmlcleaner\" % \"htmlcleaner\" % \"2.16\",\n",
    "  \"net.ruippeixotog\" %% \"scala-scraper\" % \"1.0.0\"\n",
    ")"
   ]
  },
  {
   "cell_type": "code",
   "execution_count": 2,
   "metadata": {
    "collapsed": false
   },
   "outputs": [
    {
     "data": {
      "text/plain": [
       "\u001b[32mimport \u001b[36mnet.ruippeixotog.scalascraper.dsl.DSL._\u001b[0m\n",
       "\u001b[32mimport \u001b[36mnet.ruippeixotog.scalascraper.dsl.DSL.Extract._\u001b[0m\n",
       "\u001b[32mimport \u001b[36mnet.ruippeixotog.scalascraper.dsl.DSL.Parse._\u001b[0m\n",
       "\u001b[32mimport \u001b[36mnet.ruippeixotog.scalascraper.browser.JsoupBrowser\u001b[0m"
      ]
     },
     "metadata": {},
     "output_type": "display_data"
    }
   ],
   "source": [
    "import net.ruippeixotog.scalascraper.dsl.DSL._\n",
    "import net.ruippeixotog.scalascraper.dsl.DSL.Extract._\n",
    "import net.ruippeixotog.scalascraper.dsl.DSL.Parse._\n",
    "import net.ruippeixotog.scalascraper.browser.JsoupBrowser"
   ]
  },
  {
   "cell_type": "code",
   "execution_count": 3,
   "metadata": {
    "collapsed": false
   },
   "outputs": [
    {
     "data": {
      "text/plain": [
       "\u001b[32mimport \u001b[36mscalaj.http._\u001b[0m"
      ]
     },
     "metadata": {},
     "output_type": "display_data"
    }
   ],
   "source": [
    "import scalaj.http._"
   ]
  },
  {
   "cell_type": "code",
   "execution_count": 4,
   "metadata": {
    "collapsed": false
   },
   "outputs": [
    {
     "data": {
      "text/plain": [
       "\u001b[36murl\u001b[0m: \u001b[32mString\u001b[0m = \u001b[32m\"http://www.subito.it/appartamenti/attico-via-carlo-dolci-milano-171694717.htm\"\u001b[0m"
      ]
     },
     "metadata": {},
     "output_type": "display_data"
    }
   ],
   "source": [
    "val url = \"http://www.subito.it/appartamenti/attico-via-carlo-dolci-milano-171694717.htm\""
   ]
  },
  {
   "cell_type": "code",
   "execution_count": 5,
   "metadata": {
    "collapsed": false
   },
   "outputs": [
    {
     "data": {
      "text/plain": [
       "\u001b[36mresponse\u001b[0m: \u001b[32mHttpResponse\u001b[0m[\u001b[32mString\u001b[0m] = \u001b[33mHttpResponse\u001b[0m(\n",
       "  \u001b[32m\"\"\"\n",
       "<!DOCTYPE html>  \n",
       "<html xmlns:svg=\"http://www.w3.org/2000/svg\" xmlns:og=\"http://ogp.me/ns#\" lang=\"it\">                                               <head> <meta http-equiv=\"Content-Type\" content=\"text/html; charset=ISO-8859-15\" /> <meta name=\"SKYPE_TOOLBAR\" content=\"SKYPE_TOOLBAR_PARSER_COMPATIBLE\" />  <title> Attico via carlo dolci - Appartamenti In vendita a Milano</title>  <meta http-equiv=\"x-dns-prefetch-control\" content=\"on\"> <link rel=\"dns-prefetch\" href=\"//ad1.emediate.dk\"><link rel=\"dns-prefetch\" href=\"//logc156.xiti.com\"><link rel=\"dns-prefetch\" href=\"//s.sbito.it\"><link rel=\"dns-prefetch\" href=\"//p.jwpcdn.com\">  <meta http-equiv=\"content-language\" content=\"it\" />  <meta name=\"description\" content=\" zona Lotto-De Angeli, in stabile molto signorile con portineria al mattino dal lunedi al sabato, via Carlo Dolci, vende...\" />    <link rel=\"icon\" href=\"http://s.sbito.it/1201470036448/img/android_launcher_icon.png\" sizes=\"192x192\">  \n",
       "<link rel=\"apple-touch-icon\" href=\"http://s.sbito.it/1201470036448/img/apple_touch_icon_180.png\" sizes=\"180x180\">  \n",
       "<link rel=\"apple-touch-icon\" href=\"http://s.sbito.it/1201470036448/img/apple_touch_icon_152.png\" sizes=\"152x152\">  \n",
       "<link rel=\"apple-touch-icon\" href=\"http://s.sbito.it/1201470036448/img/apple_tou\u001b[33m...\u001b[0m"
      ]
     },
     "metadata": {},
     "output_type": "display_data"
    }
   ],
   "source": [
    "val response: HttpResponse[String] = Http(url).asString"
   ]
  },
  {
   "cell_type": "code",
   "execution_count": 6,
   "metadata": {
    "collapsed": false
   },
   "outputs": [
    {
     "data": {
      "text/plain": [
       "\u001b[36mbrowser\u001b[0m: \u001b[32mJsoupBrowser\u001b[0m = net.ruippeixotog.scalascraper.browser.JsoupBrowser@30ca3227\n",
       "\u001b[36mdoc\u001b[0m: \u001b[32mnet\u001b[0m.\u001b[32mruippeixotog\u001b[0m.\u001b[32mscalascraper\u001b[0m.\u001b[32mmodel\u001b[0m.\u001b[32mDocument\u001b[0m = JsoupDocument(<!doctype html>\n",
       "<html xmlns:svg=\"http://www.w3.org/2000/svg\" xmlns:og=\"http://ogp.me/ns#\" lang=\"it\">\n",
       " <head> \n",
       "  <meta http-equiv=\"Content-Type\" content=\"text/html; charset=ISO-8859-15\"> \n",
       "  <meta name=\"SKYPE_TOOLBAR\" content=\"SKYPE_TOOLBAR_PARSER_COMPATIBLE\"> \n",
       "  <title> Attico via carlo dolci - Appartamenti In vendita a Milano</title> \n",
       "  <meta http-equiv=\"x-dns-prefetch-control\" content=\"on\"> \n",
       "  <link rel=\"dns-prefetch\" href=\"//ad1.emediate.dk\">\n",
       "  <link rel=\"dns-prefetch\" href=\"//logc156.xiti.com\">\n",
       "  <link rel=\"dns-prefetch\" href=\"//s.sbito.it\">\n",
       "  <link rel=\"dns-prefetch\" href=\"//p.jwpcdn.com\"> \n",
       "  <meta http-equiv=\"content-language\" content=\"it\"> \n",
       "  <meta name=\"description\" content=\" zona Lotto-De Angeli, in stabile molto signorile con portineria al mattino dal lunedi al sabato, via Carlo Dolci, vende...\"> \n",
       "  <link rel=\"icon\" href=\"http://s.sbito.it/1201470036448/img/android_launcher_icon.png\" sizes=\"192x192\"> \n",
       "  <link rel=\"apple-touch-icon\" href=\"http://s.sbito.it/1201470036448/img/apple_touch_icon_180.png\" sizes=\"180x180\"> \n",
       "\u001b[33m...\u001b[0m"
      ]
     },
     "metadata": {},
     "output_type": "display_data"
    }
   ],
   "source": [
    "val browser = JsoupBrowser()\n",
    "val doc = browser.parseString(response.body)"
   ]
  },
  {
   "cell_type": "code",
   "execution_count": 7,
   "metadata": {
    "collapsed": false
   },
   "outputs": [
    {
     "data": {
      "text/plain": [
       "\u001b[36mtable\u001b[0m: \u001b[32mList\u001b[0m[\u001b[32mnet\u001b[0m.\u001b[32mruippeixotog\u001b[0m.\u001b[32mscalascraper\u001b[0m.\u001b[32mmodel\u001b[0m.\u001b[32mElement\u001b[0m] = \u001b[33mList\u001b[0m(\n",
       "  JsoupElement(<tr class=\"price\"> \n",
       " <td class=\"details_label\">Prezzo</td> \n",
       " <td class=\"details_value price\">369.000 €</td> \n",
       "</tr>),\n",
       "  JsoupElement(<tr> \n",
       " <td class=\"details_label\">Comune</td> \n",
       " <td class=\"details_value\"> Milano (MI) </td> \n",
       "</tr>),\n",
       "  JsoupElement(<tr> \n",
       " <td class=\"details_label\">Locali</td> \n",
       " <td class=\"details_value\"> 4 </td> \n",
       "</tr>),\n",
       "  JsoupElement(<tr> \n",
       " <td class=\"details_label\">Superficie</td> \n",
       " <td class=\"details_value\"> 145 mq </td> \n",
       "</tr>)\n",
       ")"
      ]
     },
     "metadata": {},
     "output_type": "display_data"
    }
   ],
   "source": [
    "val table = doc >> elementList(\"div.summary > table > tbody > tr\")"
   ]
  },
  {
   "cell_type": "code",
   "execution_count": 10,
   "metadata": {
    "collapsed": false
   },
   "outputs": [
    {
     "data": {
      "text/plain": [
       "\u001b[36mdetails\u001b[0m: \u001b[32mMap\u001b[0m[\u001b[32mString\u001b[0m, \u001b[32mString\u001b[0m] = \u001b[33mMap\u001b[0m(\n",
       "  \u001b[32m\"Prezzo\"\u001b[0m -> \u001b[32m\"369.000 €\"\u001b[0m,\n",
       "  \u001b[32m\"Comune\"\u001b[0m -> \u001b[32m\"Milano (MI)\"\u001b[0m,\n",
       "  \u001b[32m\"Locali\"\u001b[0m -> \u001b[32m\"4\"\u001b[0m,\n",
       "  \u001b[32m\"Superficie\"\u001b[0m -> \u001b[32m\"145 mq\"\u001b[0m\n",
       ")"
      ]
     },
     "metadata": {},
     "output_type": "display_data"
    }
   ],
   "source": [
    "val details = table.map(_ >> texts(\"td\"))\n",
    ".map{\n",
    "    case List(key,value) => key -> value\n",
    "}.toMap"
   ]
  },
  {
   "cell_type": "code",
   "execution_count": 9,
   "metadata": {
    "collapsed": false
   },
   "outputs": [
    {
     "data": {
      "text/plain": [
       "\u001b[36mdescription\u001b[0m: \u001b[32mString\u001b[0m = \u001b[32m\"\"\"\n",
       "\"zona Lotto-De Angeli, in stabile molto signorile con portineria al mattino dal lunedi al sabato, via Carlo Dolci, vendesi appartamento attico su due livelli con ampio terrazzo con splendida vista così composto: piano ottavo - ingresso, ampio soggiorno, cucina abitabile con balcone, camera matrimoniale con bagno in camera e ampio guardaroba, bagno, possibile seconda camera o zona lettura e scala per il piano nono: ampio sottotetto con grandi e ampi guardaroba e zona giorno-notte. Cantina. Ottime finiture, riscaldamento centralizzato a pannelli con spese annue di euro 2.800/annue. da vedere, libero al rogito.\"\n",
       "\"\"\"\u001b[0m"
      ]
     },
     "metadata": {},
     "output_type": "display_data"
    }
   ],
   "source": [
    "val description = doc >> text(\"div.description\")"
   ]
  },
  {
   "cell_type": "code",
   "execution_count": 10,
   "metadata": {
    "collapsed": false
   },
   "outputs": [
    {
     "data": {
      "text/plain": [
       "\u001b[36mpublisher\u001b[0m: \u001b[32mString\u001b[0m = \u001b[32m\"jekocasa\"\u001b[0m"
      ]
     },
     "metadata": {},
     "output_type": "display_data"
    }
   ],
   "source": [
    "val publisher = doc >> text(\"div.publisher_info > h2\")"
   ]
  },
  {
   "cell_type": "code",
   "execution_count": null,
   "metadata": {
    "collapsed": true
   },
   "outputs": [],
   "source": []
  }
 ],
 "metadata": {
  "kernelspec": {
   "display_name": "Scala 2.11",
   "language": "scala211",
   "name": "scala211"
  },
  "language_info": {
   "codemirror_mode": "text/x-scala",
   "file_extension": ".scala",
   "mimetype": "text/x-scala",
   "name": "scala211",
   "pygments_lexer": "scala",
   "version": "2.11.8"
  }
 },
 "nbformat": 4,
 "nbformat_minor": 0
}
