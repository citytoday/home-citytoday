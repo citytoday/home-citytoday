{
 "cells": [
  {
   "cell_type": "code",
   "execution_count": 1,
   "metadata": {
    "collapsed": false
   },
   "outputs": [
    {
     "name": "stdout",
     "output_type": "stream",
     "text": [
      "31 new artifact(s)"
     ]
    },
    {
     "name": "stderr",
     "output_type": "stream",
     "text": [
      "31 new artifacts in macro\n"
     ]
    },
    {
     "name": "stdout",
     "output_type": "stream",
     "text": [
      "\n"
     ]
    },
    {
     "name": "stderr",
     "output_type": "stream",
     "text": [
      "31 new artifacts in runtime\n",
      "31 new artifacts in compile\n"
     ]
    },
    {
     "data": {
      "text/plain": []
     },
     "metadata": {},
     "output_type": "display_data"
    }
   ],
   "source": [
    "classpath.add(\n",
    "  \"org.jsoup\" % \"jsoup\" % \"1.9.2\",\n",
    "  \"org.scalaj\" %% \"scalaj-http\" % \"2.3.0\",\n",
    "  \"net.sourceforge.htmlcleaner\" % \"htmlcleaner\" % \"2.16\",\n",
    "  \"net.ruippeixotog\" %% \"scala-scraper\" % \"1.0.0\"\n",
    ")"
   ]
  },
  {
   "cell_type": "code",
   "execution_count": 2,
   "metadata": {
    "collapsed": false
   },
   "outputs": [
    {
     "data": {
      "text/plain": [
       "\u001b[32mimport \u001b[36mnet.ruippeixotog.scalascraper.dsl.DSL._\u001b[0m\n",
       "\u001b[32mimport \u001b[36mnet.ruippeixotog.scalascraper.dsl.DSL.Extract._\u001b[0m\n",
       "\u001b[32mimport \u001b[36mnet.ruippeixotog.scalascraper.dsl.DSL.Parse._\u001b[0m\n",
       "\u001b[32mimport \u001b[36mnet.ruippeixotog.scalascraper.browser.JsoupBrowser\u001b[0m"
      ]
     },
     "metadata": {},
     "output_type": "display_data"
    }
   ],
   "source": [
    "import net.ruippeixotog.scalascraper.dsl.DSL._\n",
    "import net.ruippeixotog.scalascraper.dsl.DSL.Extract._\n",
    "import net.ruippeixotog.scalascraper.dsl.DSL.Parse._\n",
    "import net.ruippeixotog.scalascraper.browser.JsoupBrowser"
   ]
  },
  {
   "cell_type": "code",
   "execution_count": 3,
   "metadata": {
    "collapsed": false
   },
   "outputs": [
    {
     "data": {
      "text/plain": [
       "\u001b[32mimport \u001b[36mjava.net.URL\u001b[0m\n",
       "defined \u001b[32mobject \u001b[36mUtils\u001b[0m"
      ]
     },
     "metadata": {},
     "output_type": "display_data"
    }
   ],
   "source": [
    "import java.net.URL\n",
    "\n",
    "/**\n",
    " * Created by fabiofumarola on 13/08/16.\n",
    " */\n",
    "object Utils {\n",
    "\n",
    "  /**\n",
    "    *\n",
    "    * @param absolute\n",
    "    * @param relative\n",
    "    * @return the absolute url obtained from the relative one\n",
    "    */\n",
    "  def makeUrlAbsolute(absolute: String, relative: String): String = {\n",
    "      val base = new URL(absolute)\n",
    "      new URL(base, relative).toExternalForm\n",
    "\n",
    "  }\n",
    "}"
   ]
  },
  {
   "cell_type": "code",
   "execution_count": 4,
   "metadata": {
    "collapsed": false
   },
   "outputs": [
    {
     "data": {
      "text/plain": [
       "\u001b[32mimport \u001b[36mscalaj.http._\u001b[0m"
      ]
     },
     "metadata": {},
     "output_type": "display_data"
    }
   ],
   "source": [
    "import scalaj.http._"
   ]
  },
  {
   "cell_type": "code",
   "execution_count": 5,
   "metadata": {
    "collapsed": false
   },
   "outputs": [
    {
     "data": {
      "text/plain": [
       "\u001b[36mbrowser\u001b[0m: \u001b[32mJsoupBrowser\u001b[0m = net.ruippeixotog.scalascraper.browser.JsoupBrowser@5d2614de"
      ]
     },
     "metadata": {},
     "output_type": "display_data"
    }
   ],
   "source": [
    "val browser = JsoupBrowser()"
   ]
  },
  {
   "cell_type": "code",
   "execution_count": 28,
   "metadata": {
    "collapsed": false
   },
   "outputs": [
    {
     "data": {
      "text/plain": [
       "\u001b[36murlList\u001b[0m: \u001b[32mString\u001b[0m = \u001b[32m\"https://www.idealista.it/vendita-case/milano-milano/lista-1.htm\"\u001b[0m"
      ]
     },
     "metadata": {},
     "output_type": "display_data"
    }
   ],
   "source": [
    "val urlList = \"https://www.idealista.it/vendita-case/milano-milano/lista-1.htm\""
   ]
  },
  {
   "cell_type": "markdown",
   "metadata": {},
   "source": [
    "## Deal with List Url"
   ]
  },
  {
   "cell_type": "code",
   "execution_count": 29,
   "metadata": {
    "collapsed": false
   },
   "outputs": [
    {
     "data": {
      "text/plain": [
       "\u001b[36mresponseList\u001b[0m: \u001b[32mHttpResponse\u001b[0m[\u001b[32mString\u001b[0m] = \u001b[33mHttpResponse\u001b[0m(\n",
       "  \u001b[32m\"\"\"\n",
       "<!DOCTYPE html>  \n",
       "<!--[if IE 8]><html class=\"ie8\" lang=\"it\" env=\"it\" username=\"\"><![endif]--> <!--[if IE 9]><html class=\"ie9\" lang=\"it\" env=\"it\" username=\"\"><![endif]--> <!--[if gt IE 9]><!--> <html lang=\"it\" env=\"it\" username=\"\" data-userAuth=\"false\"><!--<![endif]--> <head> <meta http-equiv=\"X-UA-Compatible\" content=\"IE=edge,chrome=1\"> <title>Case a Milano &#8212; idealista</title> <meta http-equiv=\"Content-Type\" content=\"text/html; charset=UTF-8\"> <meta name=\"description\" content=\"18.271 case a Milano, da 700 euro di privati e agenzie immobiliari. case a Milano: annunci da privato a privato e di agenzie immobiliari.\"> <meta name=\"keywords\" content=\"Case Milano, case di privati Milano, case di agenzie immobiliari Milano, foto di case Milano \"> <meta name=\"author\" content=\"idealista.com\"> <meta http-equiv=\"cleartype\" content=\"on\"> <meta name=\"pragma\" content=\"no-cache\"/> <meta http-equiv=\"Pragma\" content=\"no-cache\"/> <meta http-equiv=\"Expires\" content=\"Fri, 01 Jan 1990 00:00:00 GMT\"/> <meta http-equiv=\"Cache-Control\" content=\"no-cache, no-store, must-revalidate\"/> <link rel=\"shortcut icon\" href=\"/favicon.ico\"> <link rel=\"apple-touch-icon\" href=\"https://st1.idealista.it/static/common/icons/60x60.png?20160804134010\"> <link rel=\"apple-touch-icon-precomposed\" href=\"https://st1.idealista.it/static/common/icons/60x60.png?20160804134010\"> <link rel=\"apple-touch-i\u001b[33m...\u001b[0m"
      ]
     },
     "metadata": {},
     "output_type": "display_data"
    }
   ],
   "source": [
    "val responseList: HttpResponse[String] = Http(urlList).asString"
   ]
  },
  {
   "cell_type": "code",
   "execution_count": 30,
   "metadata": {
    "collapsed": false
   },
   "outputs": [
    {
     "data": {
      "text/plain": [
       "\u001b[36mdocList\u001b[0m: \u001b[32mnet\u001b[0m.\u001b[32mruippeixotog\u001b[0m.\u001b[32mscalascraper\u001b[0m.\u001b[32mmodel\u001b[0m.\u001b[32mDocument\u001b[0m = JsoupDocument(<!doctype html>\n",
       "<!--[if IE 8]><html class=\"ie8\" lang=\"it\" env=\"it\" username=\"\"><![endif]-->\n",
       "<!--[if IE 9]><html class=\"ie9\" lang=\"it\" env=\"it\" username=\"\"><![endif]-->\n",
       "<!--[if gt IE 9]><!-->\n",
       "<html lang=\"it\" env=\"it\" username=\"\" data-userauth=\"false\">\n",
       " <!--<![endif]-->\n",
       " <head> \n",
       "  <meta http-equiv=\"X-UA-Compatible\" content=\"IE=edge,chrome=1\"> \n",
       "  <title>Case a Milano — idealista</title> \n",
       "  <meta http-equiv=\"Content-Type\" content=\"text/html; charset=UTF-8\"> \n",
       "  <meta name=\"description\" content=\"18.271 case a Milano, da 700 euro di privati e agenzie immobiliari. case a Milano: annunci da privato a privato e di agenzie immobiliari.\"> \n",
       "  <meta name=\"keywords\" content=\"Case Milano, case di privati Milano, case di agenzie immobiliari Milano, foto di case Milano \"> \n",
       "  <meta name=\"author\" content=\"idealista.com\"> \n",
       "  <meta http-equiv=\"cleartype\" content=\"on\"> \n",
       "  <meta name=\"pragma\" content=\"no-cache\"> \n",
       "  <meta http-equiv=\"Pragma\" content=\"no-cache\"> \n",
       "  <meta http-equiv=\"Expires\" content=\"Fri, 01 Jan 1990 00:00:00 GMT\"> \n",
       "\u001b[33m...\u001b[0m"
      ]
     },
     "metadata": {},
     "output_type": "display_data"
    }
   ],
   "source": [
    "val docList = browser.parseString(responseList.body)"
   ]
  },
  {
   "cell_type": "code",
   "execution_count": 31,
   "metadata": {
    "collapsed": false
   },
   "outputs": [
    {
     "data": {
      "text/plain": [
       "\u001b[36melements\u001b[0m: \u001b[32mList\u001b[0m[\u001b[32mnet\u001b[0m.\u001b[32mruippeixotog\u001b[0m.\u001b[32mscalascraper\u001b[0m.\u001b[32mmodel\u001b[0m.\u001b[32mElement\u001b[0m] = \u001b[33mList\u001b[0m(\n",
       "  JsoupElement(<article> \n",
       " <div class=\"item item_contains_branding item_featured item_highlight-phrase\" data-adid=\"9074680\"> \n",
       "  <div class=\"item-highlight-phrase\">\n",
       "   San Siro_ Prestigioso appartamento con terrazzi con vista immersa nel verde, per gli amanti dello sport e del relax.\n",
       "  </div> \n",
       "  <div class=\"clearfix\"> \n",
       "   <div class=\"item-multimedia \"> \n",
       "    <div class=\"item-multimedia-features\"> \n",
       "     <span class=\"icon-video\"></span> \n",
       "     <span class=\"icon-plans\"></span> \n",
       "    </div> \n",
       "    <div class=\"item-multimedia-pictures\"> \n",
       "     <span class=\"icon-photos\"></span> \n",
       "     <span data-count></span>\n",
       "     <span data-total>33</span> \n",
       "    </div> \n",
       "    <div class=\"item-ribbon-container\"> \n",
       "\u001b[33m...\u001b[0m"
      ]
     },
     "metadata": {},
     "output_type": "display_data"
    }
   ],
   "source": [
    "val elements = docList >> elementList(\"article\")"
   ]
  },
  {
   "cell_type": "code",
   "execution_count": 32,
   "metadata": {
    "collapsed": false
   },
   "outputs": [
    {
     "data": {
      "text/plain": [
       "\u001b[36me\u001b[0m: \u001b[32mnet\u001b[0m.\u001b[32mruippeixotog\u001b[0m.\u001b[32mscalascraper\u001b[0m.\u001b[32mmodel\u001b[0m.\u001b[32mElement\u001b[0m = JsoupElement(<article> \n",
       " <div class=\"item item_contains_branding item_featured item_highlight-phrase\" data-adid=\"9074680\"> \n",
       "  <div class=\"item-highlight-phrase\">\n",
       "   San Siro_ Prestigioso appartamento con terrazzi con vista immersa nel verde, per gli amanti dello sport e del relax.\n",
       "  </div> \n",
       "  <div class=\"clearfix\"> \n",
       "   <div class=\"item-multimedia \"> \n",
       "    <div class=\"item-multimedia-features\"> \n",
       "     <span class=\"icon-video\"></span> \n",
       "     <span class=\"icon-plans\"></span> \n",
       "    </div> \n",
       "    <div class=\"item-multimedia-pictures\"> \n",
       "     <span class=\"icon-photos\"></span> \n",
       "     <span data-count></span>\n",
       "     <span data-total>33</span> \n",
       "    </div> \n",
       "    <div class=\"item-ribbon-container\"> \n",
       "    </div> \n",
       "\u001b[33m...\u001b[0m"
      ]
     },
     "metadata": {},
     "output_type": "display_data"
    }
   ],
   "source": [
    "val e = elements.head"
   ]
  },
  {
   "cell_type": "code",
   "execution_count": 33,
   "metadata": {
    "collapsed": false
   },
   "outputs": [
    {
     "data": {
      "text/plain": [
       "\u001b[36mid\u001b[0m: \u001b[32mOption\u001b[0m[\u001b[32mString\u001b[0m] = \u001b[33mSome\u001b[0m(\u001b[32m\"9074680\"\u001b[0m)"
      ]
     },
     "metadata": {},
     "output_type": "display_data"
    }
   ],
   "source": [
    "val id = e >?> attr(\"data-adid\")(\"div\")"
   ]
  },
  {
   "cell_type": "code",
   "execution_count": 34,
   "metadata": {
    "collapsed": false
   },
   "outputs": [
    {
     "data": {
      "text/plain": [
       "\u001b[36mtitle\u001b[0m: \u001b[32mOption\u001b[0m[\u001b[32mString\u001b[0m] = \u001b[33mSome\u001b[0m(\u001b[32m\"Appartamento in via fetonte, s.n.c, San Siro, Milano\"\u001b[0m)"
      ]
     },
     "metadata": {},
     "output_type": "display_data"
    }
   ],
   "source": [
    "val title = e >?> text(\"div > div > div.item-info-container > a\")"
   ]
  },
  {
   "cell_type": "code",
   "execution_count": 35,
   "metadata": {
    "collapsed": false
   },
   "outputs": [
    {
     "data": {
      "text/plain": [
       "\u001b[36murlOpt\u001b[0m: \u001b[32mOption\u001b[0m[\u001b[32mString\u001b[0m] = \u001b[33mSome\u001b[0m(\u001b[32m\"https://www.idealista.it/immobile/9074680/\"\u001b[0m)"
      ]
     },
     "metadata": {},
     "output_type": "display_data"
    }
   ],
   "source": [
    "val urlOpt = e >?> attr(\"href\")(\"div > div > div.item-info-container > a\").map(r => Utils.makeUrlAbsolute(urlList, r))"
   ]
  },
  {
   "cell_type": "code",
   "execution_count": 47,
   "metadata": {
    "collapsed": false
   },
   "outputs": [
    {
     "data": {
      "text/plain": [
       "\u001b[36mprice\u001b[0m: \u001b[32mOption\u001b[0m[\u001b[32mString\u001b[0m] = \u001b[33mSome\u001b[0m(\u001b[32m\"1.150.000€\"\u001b[0m)"
      ]
     },
     "metadata": {},
     "output_type": "display_data"
    }
   ],
   "source": [
    "val price = e >?> text(\"div > div > div.item-info-container > div.row.price-row > span.item-price\")"
   ]
  },
  {
   "cell_type": "code",
   "execution_count": 48,
   "metadata": {
    "collapsed": false
   },
   "outputs": [
    {
     "data": {
      "text/plain": [
       "\u001b[36mlocation\u001b[0m: \u001b[32mOption\u001b[0m[\u001b[32mString\u001b[0m] = \u001b[33mSome\u001b[0m(\u001b[32m\"0287368104\"\u001b[0m)"
      ]
     },
     "metadata": {},
     "output_type": "display_data"
    }
   ],
   "source": [
    "val location = e >?> text(\"div > div > div.item-info-container > div.item-toolbar > div.item-toolbar-contact > span\")"
   ]
  },
  {
   "cell_type": "markdown",
   "metadata": {},
   "source": [
    "## Deal with detailed record"
   ]
  },
  {
   "cell_type": "code",
   "execution_count": 6,
   "metadata": {
    "collapsed": false
   },
   "outputs": [
    {
     "data": {
      "text/plain": [
       "\u001b[36murlRec\u001b[0m: \u001b[32mString\u001b[0m = \u001b[32m\"https://www.idealista.it/immobile/9354587/\"\u001b[0m"
      ]
     },
     "metadata": {},
     "output_type": "display_data"
    }
   ],
   "source": [
    "val urlRec = \"https://www.idealista.it/immobile/9354587/\""
   ]
  },
  {
   "cell_type": "code",
   "execution_count": 7,
   "metadata": {
    "collapsed": false
   },
   "outputs": [
    {
     "data": {
      "text/plain": [
       "\u001b[36mresponseRec\u001b[0m: \u001b[32mHttpResponse\u001b[0m[\u001b[32mString\u001b[0m] = \u001b[33mHttpResponse\u001b[0m(\n",
       "  \u001b[32m\"\"\"\n",
       "<!DOCTYPE html>  \n",
       "<!--[if IE 8]><html class=\"ie8\" lang=\"it\" env=\"it\" username=\"\"><![endif]--> <!--[if IE 9]><html class=\"ie9\" lang=\"it\" env=\"it\" username=\"\"><![endif]--> <!--[if gt IE 9]><!--> <html lang=\"it\" env=\"it\" username=\"\" data-userAuth=\"false\"><!--<![endif]--> <head> <meta http-equiv=\"X-UA-Compatible\" content=\"IE=edge,chrome=1\"> <title>Quadrilocale in vendita in val cannobina, 6, Baggio, Milano</title> <meta http-equiv=\"Content-Type\" content=\"text/html; charset=UTF-8\"> <meta name=\"description\" content=\"Quadrilocale di 140 m², Quadrilocale in vendita in val cannobina, 6, Baggio, Milano, quartiere Baggio\"> <meta name=\"keywords\" content=\"\"> <meta name=\"author\" content=\"idealista.com\"> <meta http-equiv=\"cleartype\" content=\"on\"> <meta name=\"pragma\" content=\"no-cache\"/> <meta http-equiv=\"Pragma\" content=\"no-cache\"/> <meta http-equiv=\"Expires\" content=\"Fri, 01 Jan 1990 00:00:00 GMT\"/> <meta http-equiv=\"Cache-Control\" content=\"no-cache, no-store, must-revalidate\"/> <link rel=\"shortcut icon\" href=\"/favicon.ico\"> <link rel=\"apple-touch-icon\" href=\"https://st1.idealista.it/static/common/icons/60x60.png?20160804134010\"> <link rel=\"apple-touch-icon-precomposed\" href=\"https://st1.idealista.it/static/common/icons/60x60.png?20160804134010\"> <link rel=\"apple-touch-icon\" sizes=\"76x76\" href=\"https://st1.idealista.it/static/common/icons/76x76.png?20160804134010\"> <lin\u001b[33m...\u001b[0m"
      ]
     },
     "metadata": {},
     "output_type": "display_data"
    }
   ],
   "source": [
    "val responseRec: HttpResponse[String] = Http(urlRec).asString"
   ]
  },
  {
   "cell_type": "code",
   "execution_count": 8,
   "metadata": {
    "collapsed": false
   },
   "outputs": [
    {
     "data": {
      "text/plain": [
       "\u001b[36mdocRec\u001b[0m: \u001b[32mnet\u001b[0m.\u001b[32mruippeixotog\u001b[0m.\u001b[32mscalascraper\u001b[0m.\u001b[32mmodel\u001b[0m.\u001b[32mDocument\u001b[0m = JsoupDocument(<!doctype html>\n",
       "<!--[if IE 8]><html class=\"ie8\" lang=\"it\" env=\"it\" username=\"\"><![endif]-->\n",
       "<!--[if IE 9]><html class=\"ie9\" lang=\"it\" env=\"it\" username=\"\"><![endif]-->\n",
       "<!--[if gt IE 9]><!-->\n",
       "<html lang=\"it\" env=\"it\" username=\"\" data-userauth=\"false\">\n",
       " <!--<![endif]-->\n",
       " <head> \n",
       "  <meta http-equiv=\"X-UA-Compatible\" content=\"IE=edge,chrome=1\"> \n",
       "  <title>Quadrilocale in vendita in val cannobina, 6, Baggio, Milano</title> \n",
       "  <meta http-equiv=\"Content-Type\" content=\"text/html; charset=UTF-8\"> \n",
       "  <meta name=\"description\" content=\"Quadrilocale di 140 m², Quadrilocale in vendita in val cannobina, 6, Baggio, Milano, quartiere Baggio\"> \n",
       "  <meta name=\"keywords\" content=\"\"> \n",
       "  <meta name=\"author\" content=\"idealista.com\"> \n",
       "  <meta http-equiv=\"cleartype\" content=\"on\"> \n",
       "  <meta name=\"pragma\" content=\"no-cache\"> \n",
       "  <meta http-equiv=\"Pragma\" content=\"no-cache\"> \n",
       "  <meta http-equiv=\"Expires\" content=\"Fri, 01 Jan 1990 00:00:00 GMT\"> \n",
       "  <meta http-equiv=\"Cache-Control\" content=\"no-cache, no-store, must-revalidate\"> \n",
       "\u001b[33m...\u001b[0m"
      ]
     },
     "metadata": {},
     "output_type": "display_data"
    }
   ],
   "source": [
    "val docRec = browser.parseString(responseRec.body)"
   ]
  },
  {
   "cell_type": "code",
   "execution_count": 23,
   "metadata": {
    "collapsed": false,
    "scrolled": true
   },
   "outputs": [
    {
     "data": {
      "text/plain": [
       "\u001b[36mdescription\u001b[0m: \u001b[32mOption\u001b[0m[\u001b[32mString\u001b[0m] = \u001b[33mSome\u001b[0m(\n",
       "  \u001b[32m\"\"\"\n",
       "\"Ad. Via Cabella - In Ottimo e Tranquillo Contesto Medio Signorile in Clinker con Portineria, Campo Da Tennis ed Ampio Verde Condominiale ( La Serenissima ) - Mq. 140 - Nelle Vicinanze di Negozi e Scuole - Ampio Quattro Locali con Cucina Abitabile, Doppi Servizi Finestrati, Due Ripostigli, Balcone, Cantina e Poss. Box Auto - Disponibilità Immediata - € 270.000,00. (Ricerchiamo Immobili Residenziali in vendita in Milano e zone limitrofe anche in nuda proprietà per investimento o in locazione per la nostra clientela). ( Si Effettuano Permute ) - (Cercasi Personale per Ampliamento Organico - Inviare curriculum con foto a royal_casa@virgilio.it ).\"\n",
       "  \"\"\"\u001b[0m\n",
       ")"
      ]
     },
     "metadata": {},
     "output_type": "display_data"
    }
   ],
   "source": [
    "val description = docRec >?> text(\"#details > div:nth-child(1) > ul > li > span > div\")"
   ]
  },
  {
   "cell_type": "code",
   "execution_count": 24,
   "metadata": {
    "collapsed": false
   },
   "outputs": [
    {
     "data": {
      "text/plain": [
       "\u001b[36melements\u001b[0m: \u001b[32mList\u001b[0m[\u001b[32mnet\u001b[0m.\u001b[32mruippeixotog\u001b[0m.\u001b[32mscalascraper\u001b[0m.\u001b[32mmodel\u001b[0m.\u001b[32mElement\u001b[0m] = \u001b[33mList\u001b[0m(\n",
       "  JsoupElement(<div> \n",
       " <h2 class=\"txt-medium txt-bold\">Commento dell’inserzionista</h2> \n",
       " <ul> \n",
       "  <li> <span class=\"commentsContainer\" data-url=\"/ajax/comment.ajax\"> Disponibile in <a href=\"#\" class=\"current\" data-lang=\"it\">Italiano</a> \n",
       "    <div class=\"adCommentsLanguage expandable\" data-compressed-max-length=\"500\" data-expander-text=\"Vedi descrizione completa\">\n",
       "      \"Ad. Via Cabella - In Ottimo e Tranquillo Contesto Medio Signorile in Clinker con Portineria, Campo Da Tennis ed Ampio Verde Condominiale ( La Serenissima ) - Mq. 140 - Nelle Vicinanze di Negozi e Scuole - Ampio Quattro Locali con Cucina Abitabile, Doppi Servizi Finestrati, Due Ripostigli, Balcone, Cantina e Poss. Box Auto - Disponibilità Immediata - € 270.000,00.\n",
       "     <br>(Ricerchiamo Immobili Residenziali in vendita in Milano e zone limitrofe anche in nuda proprietà per investimento o in locazione per la nostra clientela). ( Si Effettuano Permute ) - (Cercasi Personale per Ampliamento Organico - Inviare curriculum con foto a royal_casa@virgilio.it ).\" \n",
       "    </div> </span> </li> \n",
       " </ul> \n",
       "</div>),\n",
       "\u001b[33m...\u001b[0m"
      ]
     },
     "metadata": {},
     "output_type": "display_data"
    }
   ],
   "source": [
    "val elements = (docRec >> elementList(\"#details > div\")) ++\n",
    "  (docRec >> elementList(\"#addressPromo\"))"
   ]
  },
  {
   "cell_type": "code",
   "execution_count": 27,
   "metadata": {
    "collapsed": false
   },
   "outputs": [
    {
     "data": {
      "text/plain": [
       "\u001b[36mdetails\u001b[0m: \u001b[32mMap\u001b[0m[\u001b[32mString\u001b[0m, \u001b[32mString\u001b[0m] = \u001b[33mMap\u001b[0m(\n",
       "  \u001b[32m\"Posizione\"\u001b[0m -> \u001b[32m\"val cannobina, 6 , Quartiere Baggio , Zona Baggio , Milano Vedi mappa ingrandita e informazioni sulla zona\"\u001b[0m,\n",
       "  \u001b[32m\"Dotazione\"\u001b[0m -> \u001b[32m\"Con giardino\"\u001b[0m,\n",
       "  \u001b[32m\"Costruzione\"\u001b[0m -> \u001b[32m\"Piano 3 , Con ascensore , Classe energetica: (148,84 kWh/m² anno)\"\u001b[0m,\n",
       "  \u001b[32m\"Caratteristiche specifiche\"\u001b[0m -> \u001b[32m\"140 m² commerciali , 4 locali , 2 bagni , Terrazza , Garage/posto auto con 15.000 euro in più , Buono stato , Cantina\"\u001b[0m,\n",
       "  \u001b[32m\"Prezzo\"\u001b[0m -> \u001b[32m\"270.000 euro - Fai una controproposta , 1.929 euro/m2 , Calcola mutuo , 270 euro/mese di spese condominiali , Avvisami se diminuisce il prezzo Pubblicità\"\u001b[0m,\n",
       "  \u001b[32m\"Vuoi sapere se è economico o caro?\"\u001b[0m -> \u001b[32m\"Compra una stima del prezzo\"\u001b[0m\n",
       ")"
      ]
     },
     "metadata": {},
     "output_type": "display_data"
    }
   ],
   "source": [
    "val details = elements.map { e =>\n",
    "  val key = e >> text(\"h2\")\n",
    "  val values = e >> texts(\"ul > li\")\n",
    "  key -> values.mkString(\" , \")\n",
    "}.toMap - \"Commento dell’inserzionista\""
   ]
  },
  {
   "cell_type": "code",
   "execution_count": null,
   "metadata": {
    "collapsed": true
   },
   "outputs": [],
   "source": []
  }
 ],
 "metadata": {
  "kernelspec": {
   "display_name": "Scala 2.11",
   "language": "scala211",
   "name": "scala211"
  },
  "language_info": {
   "codemirror_mode": "text/x-scala",
   "file_extension": ".scala",
   "mimetype": "text/x-scala",
   "name": "scala211",
   "pygments_lexer": "scala",
   "version": "2.11.8"
  }
 },
 "nbformat": 4,
 "nbformat_minor": 0
}
