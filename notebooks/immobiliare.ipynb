{
 "cells": [
  {
   "cell_type": "code",
   "execution_count": 1,
   "metadata": {
    "collapsed": false
   },
   "outputs": [
    {
     "name": "stdout",
     "output_type": "stream",
     "text": [
      "31 new artifact(s)"
     ]
    },
    {
     "name": "stderr",
     "output_type": "stream",
     "text": [
      "31 new artifacts in macro\n"
     ]
    },
    {
     "name": "stdout",
     "output_type": "stream",
     "text": [
      "\n"
     ]
    },
    {
     "name": "stderr",
     "output_type": "stream",
     "text": [
      "31 new artifacts in runtime\n",
      "31 new artifacts in compile\n"
     ]
    },
    {
     "data": {
      "text/plain": []
     },
     "metadata": {},
     "output_type": "display_data"
    }
   ],
   "source": [
    "classpath.add(\n",
    "  \"org.jsoup\" % \"jsoup\" % \"1.9.2\",\n",
    "  \"org.scalaj\" %% \"scalaj-http\" % \"2.3.0\",\n",
    "  \"net.sourceforge.htmlcleaner\" % \"htmlcleaner\" % \"2.16\",\n",
    "  \"net.ruippeixotog\" %% \"scala-scraper\" % \"1.0.0\"\n",
    ")"
   ]
  },
  {
   "cell_type": "code",
   "execution_count": 2,
   "metadata": {
    "collapsed": false
   },
   "outputs": [
    {
     "data": {
      "text/plain": [
       "\u001b[32mimport \u001b[36mnet.ruippeixotog.scalascraper.dsl.DSL._\u001b[0m\n",
       "\u001b[32mimport \u001b[36mnet.ruippeixotog.scalascraper.dsl.DSL.Extract._\u001b[0m\n",
       "\u001b[32mimport \u001b[36mnet.ruippeixotog.scalascraper.dsl.DSL.Parse._\u001b[0m\n",
       "\u001b[32mimport \u001b[36mnet.ruippeixotog.scalascraper.browser.JsoupBrowser\u001b[0m\n",
       "\u001b[32mimport \u001b[36morg.joda.time.DateTime\u001b[0m\n",
       "\u001b[32mimport \u001b[36mjava.net.URL\u001b[0m\n",
       "defined \u001b[32mobject \u001b[36mUtils\u001b[0m\n",
       "\u001b[32mimport \u001b[36mscalaj.http._\u001b[0m\n",
       "\u001b[36mbrowser\u001b[0m: \u001b[32mnet\u001b[0m.\u001b[32mruippeixotog\u001b[0m.\u001b[32mscalascraper\u001b[0m.\u001b[32mbrowser\u001b[0m.\u001b[32mJsoupBrowser\u001b[0m = net.ruippeixotog.scalascraper.browser.JsoupBrowser@3b1a984e"
      ]
     },
     "metadata": {},
     "output_type": "display_data"
    }
   ],
   "source": [
    "import net.ruippeixotog.scalascraper.dsl.DSL._\n",
    "import net.ruippeixotog.scalascraper.dsl.DSL.Extract._\n",
    "import net.ruippeixotog.scalascraper.dsl.DSL.Parse._\n",
    "import net.ruippeixotog.scalascraper.browser.JsoupBrowser\n",
    "import org.joda.time.DateTime\n",
    "\n",
    "import java.net.URL\n",
    "\n",
    "/**\n",
    " * Created by fabiofumarola on 13/08/16.\n",
    " */\n",
    "object Utils {\n",
    "\n",
    "  /**\n",
    "    *\n",
    "    * @param absolute\n",
    "    * @param relative\n",
    "    * @return the absolute url obtained from the relative one\n",
    "    */\n",
    "  def makeUrlAbsolute(absolute: String, relative: String): String = {\n",
    "      val base = new URL(absolute)\n",
    "      new URL(base, relative).toExternalForm\n",
    "\n",
    "  }\n",
    "}\n",
    "\n",
    "import scalaj.http._\n",
    "\n",
    "val browser = JsoupBrowser()"
   ]
  },
  {
   "cell_type": "code",
   "execution_count": 22,
   "metadata": {
    "collapsed": false
   },
   "outputs": [
    {
     "data": {
      "text/plain": [
       "\u001b[36mpage\u001b[0m: \u001b[32mInt\u001b[0m = \u001b[32m1\u001b[0m"
      ]
     },
     "metadata": {},
     "output_type": "display_data"
    }
   ],
   "source": [
    "val page= 1"
   ]
  },
  {
   "cell_type": "code",
   "execution_count": 23,
   "metadata": {
    "collapsed": false,
    "scrolled": true
   },
   "outputs": [
    {
     "data": {
      "text/plain": [
       "\u001b[36murlList\u001b[0m: \u001b[32mString\u001b[0m = \u001b[32m\"http://www.immobiliare.it/Milano/vendita_appartamenti-Milano.html?criterio=rilevanza&superficieMinima=80&pag=1\"\u001b[0m"
      ]
     },
     "metadata": {},
     "output_type": "display_data"
    }
   ],
   "source": [
    "val urlList = s\"http://www.immobiliare.it/Milano/vendita_appartamenti-Milano.html?criterio=rilevanza&superficieMinima=80&pag=$page\""
   ]
  },
  {
   "cell_type": "code",
   "execution_count": 4,
   "metadata": {
    "collapsed": false
   },
   "outputs": [
    {
     "data": {
      "text/plain": [
       "\u001b[36mhtml\u001b[0m: \u001b[32mString\u001b[0m = \u001b[32m\"\"\"\n",
       "<!DOCTYPE html PUBLIC \"-//W3C//DTD XHTML 1.0 Strict//EN\" \"http://www.w3.org/TR/xhtml1/DTD/xhtml1-strict.dtd\">\n",
       "<html lang=\"it\" xmlns=\"http://www.w3.org/1999/xhtml\" xml:lang=\"it\">\n",
       "<head prefix=\"og: http://ogp.me/ns# fb: http://ogp.me/ns/fb# immobiliare_it:http://ogp.me/ns/fb/immobiliare_it#\">\n",
       "\t<script src=\"http://www.immobiliare.it/includes/consoleWrap.js?v=2016080404\"></script>\n",
       "    \n",
       "        <script type=\"text/javascript\">try{if(navigator.cookieEnabled){function readCookie(b){var f=b+\"=\";var a=document.cookie.split(\";\");for(var d=0;d<a.length;d++){var g=a[d];while(g.charAt(0)==\" \"){g=g.substring(1,g.length)}if(g.indexOf(f)==0){return g.substring(f.length,g.length)}}return null}}}catch(e){};</script>\n",
       "    \n",
       "            <script type=\"text/javascript\" src=\"http://www.immobiliare.it/includes/mobile/isMobile.min.js?v=2016080404\"></script>\n",
       "        <script type=\"text/javascript\">(function(){var request_uri=window.location.pathname+window.location.search+window.location.hash;!readCookie(\"nomobile\") && typeof isMobile != 'undefined' && !!isMobile.phone && (window.location.href='\u001b[33m...\u001b[0m"
      ]
     },
     "metadata": {},
     "output_type": "display_data"
    }
   ],
   "source": [
    "val html = Http(urlList).asString.body "
   ]
  },
  {
   "cell_type": "code",
   "execution_count": 5,
   "metadata": {
    "collapsed": false
   },
   "outputs": [
    {
     "data": {
      "text/plain": [
       "\u001b[36mdocList\u001b[0m: \u001b[32mnet\u001b[0m.\u001b[32mruippeixotog\u001b[0m.\u001b[32mscalascraper\u001b[0m.\u001b[32mmodel\u001b[0m.\u001b[32mDocument\u001b[0m = JsoupDocument(<!DOCTYPE html PUBLIC \"-//W3C//DTD XHTML 1.0 Strict//EN\" \"http://www.w3.org/TR/xhtml1/DTD/xhtml1-strict.dtd\">\n",
       "<html lang=\"it\" xmlns=\"http://www.w3.org/1999/xhtml\" xml:lang=\"it\">\n",
       " <head prefix=\"og: http://ogp.me/ns# fb: http://ogp.me/ns/fb# immobiliare_it:http://ogp.me/ns/fb/immobiliare_it#\"> \n",
       "  <script src=\"http://www.immobiliare.it/includes/consoleWrap.js?v=2016080404\"></script> \n",
       "  <script type=\"text/javascript\">try{if(navigator.cookieEnabled){function readCookie(b){var f=b+\"=\";var a=document.cookie.split(\";\");for(var d=0;d<a.length;d++){var g=a[d];while(g.charAt(0)==\" \"){g=g.substring(1,g.length)}if(g.indexOf(f)==0){return g.substring(f.length,g.length)}}return null}}}catch(e){};</script> \n",
       "  <script type=\"text/javascript\" src=\"http://www.immobiliare.it/includes/mobile/isMobile.min.js?v=2016080404\"></script> \n",
       "  <script type=\"text/javascript\">(function(){var request_uri=window.location.pathname+window.location.search+window.location.hash;!readCookie(\"nomobile\") && typeof isMobile != 'undefined' && !!isMobile.phone && (window.location.href='http://m.immobiliare.it'+request_uri);})()</script> \n",
       "  <script type=\"text/javascript\">\n",
       "// <![CDATA[\n",
       "    __GOOGLE_ANALYTICS_CODE= \"UA-2884366-1\";\n",
       "\u001b[33m...\u001b[0m"
      ]
     },
     "metadata": {},
     "output_type": "display_data"
    }
   ],
   "source": [
    "val docList = browser.parseString(html)"
   ]
  },
  {
   "cell_type": "code",
   "execution_count": 6,
   "metadata": {
    "collapsed": false
   },
   "outputs": [
    {
     "data": {
      "text/plain": [
       "\u001b[36mlistings\u001b[0m: \u001b[32mList\u001b[0m[\u001b[32mnet\u001b[0m.\u001b[32mruippeixotog\u001b[0m.\u001b[32mscalascraper\u001b[0m.\u001b[32mmodel\u001b[0m.\u001b[32mElement\u001b[0m] = \u001b[33mList\u001b[0m(\n",
       "  JsoupElement(<div id=\"wrapper_riga_57460850\" class=\"wrapper_riga_annuncio\"> \n",
       " <a id=\"#57460850\" class=\"scrollDist\"></a> \n",
       " <div class=\"box_centrali_bianchi first riga_annuncio \" id=\"57460850\" onclick=\"onClickRigaAnnuncio(this, event, __selectedTab);\" data-isvetrina=\"1\" data-category=\"Residenziale\" data-tracksuffix=\"-vetrina\" data-section=\"annunci_residenziali\" data-subsection=\"\" data-id=\"57460850\"> \n",
       "  <div class=\"contenuto_box nuovo_formato_vetrina\"> \n",
       "   <div class=\"content\"> \n",
       "    <div class=\"annuncio_title_cont\"> \n",
       "     <div class=\"annuncio_vetrina\" style=\"cursor:pointer\" onmouseover=\"showToolTip(this,event,'Annuncio Vetrina');\"></div> \n",
       "     <div class=\"annuncio_title\"> \n",
       "      <strong><a href=\"http://www.immobiliare.it/57460850-Vendita-Quadrilocale-via-Giovanni-Antonio-Amadeo-Milano.html\" onclick=\"getScrollPosition('annunci_residenziali');\" id=\"link_ad_57460850\">Quadrilocale via Giovanni Antonio Amadeo, Milano</a></strong> \n",
       "     </div> \n",
       "     <div class=\"clear\"></div> \n",
       "    </div> \n",
       "\u001b[33m...\u001b[0m"
      ]
     },
     "metadata": {},
     "output_type": "display_data"
    }
   ],
   "source": [
    "val listings = docList >> elementList(\"div.wrapper_riga_annuncio\")"
   ]
  },
  {
   "cell_type": "code",
   "execution_count": 7,
   "metadata": {
    "collapsed": false,
    "scrolled": true
   },
   "outputs": [
    {
     "data": {
      "text/plain": [
       "\u001b[36me\u001b[0m: \u001b[32mnet\u001b[0m.\u001b[32mruippeixotog\u001b[0m.\u001b[32mscalascraper\u001b[0m.\u001b[32mmodel\u001b[0m.\u001b[32mElement\u001b[0m = JsoupElement(<div id=\"wrapper_riga_57460850\" class=\"wrapper_riga_annuncio\"> \n",
       " <a id=\"#57460850\" class=\"scrollDist\"></a> \n",
       " <div class=\"box_centrali_bianchi first riga_annuncio \" id=\"57460850\" onclick=\"onClickRigaAnnuncio(this, event, __selectedTab);\" data-isvetrina=\"1\" data-category=\"Residenziale\" data-tracksuffix=\"-vetrina\" data-section=\"annunci_residenziali\" data-subsection=\"\" data-id=\"57460850\"> \n",
       "  <div class=\"contenuto_box nuovo_formato_vetrina\"> \n",
       "   <div class=\"content\"> \n",
       "    <div class=\"annuncio_title_cont\"> \n",
       "     <div class=\"annuncio_vetrina\" style=\"cursor:pointer\" onmouseover=\"showToolTip(this,event,'Annuncio Vetrina');\"></div> \n",
       "     <div class=\"annuncio_title\"> \n",
       "      <strong><a href=\"http://www.immobiliare.it/57460850-Vendita-Quadrilocale-via-Giovanni-Antonio-Amadeo-Milano.html\" onclick=\"getScrollPosition('annunci_residenziali');\" id=\"link_ad_57460850\">Quadrilocale via Giovanni Antonio Amadeo, Milano</a></strong> \n",
       "     </div> \n",
       "     <div class=\"clear\"></div> \n",
       "    </div> \n",
       "    <div class=\"clear\"></div> \n",
       "\u001b[33m...\u001b[0m"
      ]
     },
     "metadata": {},
     "output_type": "display_data"
    }
   ],
   "source": [
    "val e = listings.head"
   ]
  },
  {
   "cell_type": "markdown",
   "metadata": {},
   "source": [
    " ```scala\n",
    " case class HomeRecord(\n",
    "    id: Option[String],\n",
    "    src: String,\n",
    "    title: Option[String],\n",
    "    url: Option[String],\n",
    "    price: Option[String],\n",
    "    category: Option[String],\n",
    "    dateTime: Option[String],\n",
    "    location: Option[String],\n",
    "    phone: Option[String],\n",
    "    mapDetails: Map[String,String] = Map.empty,\n",
    "    description: Option[String] = None,\n",
    "    publisher: Option[String] = None)\n",
    " ```"
   ]
  },
  {
   "cell_type": "code",
   "execution_count": 8,
   "metadata": {
    "collapsed": false
   },
   "outputs": [
    {
     "data": {
      "text/plain": [
       "\u001b[36mid\u001b[0m: \u001b[32mOption\u001b[0m[\u001b[32mString\u001b[0m] = \u001b[33mSome\u001b[0m(\u001b[32m\"57460850\"\u001b[0m)"
      ]
     },
     "metadata": {},
     "output_type": "display_data"
    }
   ],
   "source": [
    "val id = e >?> attr(\"id\")(\"div.box_centrali_bianchi.riga_annuncio\")"
   ]
  },
  {
   "cell_type": "code",
   "execution_count": 9,
   "metadata": {
    "collapsed": false
   },
   "outputs": [
    {
     "data": {
      "text/plain": [
       "\u001b[36mtitle\u001b[0m: \u001b[32mOption\u001b[0m[\u001b[32mString\u001b[0m] = \u001b[33mSome\u001b[0m(\u001b[32m\"Quadrilocale via Giovanni Antonio Amadeo, Milano\"\u001b[0m)"
      ]
     },
     "metadata": {},
     "output_type": "display_data"
    }
   ],
   "source": [
    "val title = e >?> text(\"div.annuncio_title\")"
   ]
  },
  {
   "cell_type": "code",
   "execution_count": 10,
   "metadata": {
    "collapsed": false
   },
   "outputs": [
    {
     "data": {
      "text/plain": [
       "\u001b[36murl\u001b[0m: \u001b[32mOption\u001b[0m[\u001b[32mString\u001b[0m] = \u001b[33mSome\u001b[0m(\n",
       "  \u001b[32m\"http://www.immobiliare.it/57460850-Vendita-Quadrilocale-via-Giovanni-Antonio-Amadeo-Milano.html\"\u001b[0m\n",
       ")"
      ]
     },
     "metadata": {},
     "output_type": "display_data"
    }
   ],
   "source": [
    "val url = e >?> attr(\"href\")(\"div.annuncio_title > strong > a\")"
   ]
  },
  {
   "cell_type": "code",
   "execution_count": 11,
   "metadata": {
    "collapsed": false
   },
   "outputs": [
    {
     "data": {
      "text/plain": [
       "\u001b[36mprice\u001b[0m: \u001b[32mOption\u001b[0m[\u001b[32mString\u001b[0m] = \u001b[33mSome\u001b[0m(\u001b[32m\"€ 275.000\"\u001b[0m)"
      ]
     },
     "metadata": {},
     "output_type": "display_data"
    }
   ],
   "source": [
    "val price = e >?> text(\"span.price\").map(_.replace(\"Prezzo:\",\"\"))"
   ]
  },
  {
   "cell_type": "code",
   "execution_count": 12,
   "metadata": {
    "collapsed": false
   },
   "outputs": [
    {
     "data": {
      "text/plain": [
       "\u001b[36mcategory\u001b[0m: \u001b[32mOption\u001b[0m[\u001b[32mString\u001b[0m] = \u001b[33mSome\u001b[0m(\u001b[32m\"Appartamento in Vendita\"\u001b[0m)"
      ]
     },
     "metadata": {},
     "output_type": "display_data"
    }
   ],
   "source": [
    "val category = e >?> text(\"div.titolo_annuncio\")"
   ]
  },
  {
   "cell_type": "code",
   "execution_count": 13,
   "metadata": {
    "collapsed": false
   },
   "outputs": [
    {
     "data": {
      "text/plain": [
       "\u001b[36mdateTime\u001b[0m: \u001b[32mSome\u001b[0m[\u001b[32mString\u001b[0m] = \u001b[33mSome\u001b[0m(\u001b[32m\"2016-08-16 10:19::10\"\u001b[0m)"
      ]
     },
     "metadata": {},
     "output_type": "display_data"
    }
   ],
   "source": [
    "val dateTime = Some(DateTime.now.toString(\"YYYY-MM-dd HH:mm::ss\")) //2016-08-15 09:25:07"
   ]
  },
  {
   "cell_type": "code",
   "execution_count": 14,
   "metadata": {
    "collapsed": false
   },
   "outputs": [
    {
     "data": {
      "text/plain": [
       "\u001b[36mlocation\u001b[0m: \u001b[32mOption\u001b[0m[\u001b[32mString\u001b[0m] = \u001b[33mSome\u001b[0m(\u001b[32m\"Città Studi, Piola, Argonne\"\u001b[0m)"
      ]
     },
     "metadata": {},
     "output_type": "display_data"
    }
   ],
   "source": [
    "val location = e >?> attr(\"title\")(\"div.luogo\")"
   ]
  },
  {
   "cell_type": "code",
   "execution_count": 15,
   "metadata": {
    "collapsed": false
   },
   "outputs": [
    {
     "data": {
      "text/plain": [
       "\u001b[36mpublisher\u001b[0m: \u001b[32mOption\u001b[0m[\u001b[32mString\u001b[0m] = \u001b[33mSome\u001b[0m(\u001b[32m\"DG Consulenze Immobiliari\"\u001b[0m)"
      ]
     },
     "metadata": {},
     "output_type": "display_data"
    }
   ],
   "source": [
    "val publisher = e >?> attr(\"alt\")(\"div.agenzia_logo.in_annuncio > img\")"
   ]
  },
  {
   "cell_type": "markdown",
   "metadata": {},
   "source": [
    "## Detail"
   ]
  },
  {
   "cell_type": "code",
   "execution_count": 3,
   "metadata": {
    "collapsed": false
   },
   "outputs": [
    {
     "data": {
      "text/plain": [
       "\u001b[36murlDet\u001b[0m: \u001b[32mString\u001b[0m = \u001b[32m\"http://www.immobiliare.it/57460850-Vendita-Quadrilocale-via-Giovanni-Antonio-Amadeo-Milano.html\"\u001b[0m"
      ]
     },
     "metadata": {},
     "output_type": "display_data"
    }
   ],
   "source": [
    "val urlDet = \"http://www.immobiliare.it/57460850-Vendita-Quadrilocale-via-Giovanni-Antonio-Amadeo-Milano.html\""
   ]
  },
  {
   "cell_type": "code",
   "execution_count": 4,
   "metadata": {
    "collapsed": false
   },
   "outputs": [
    {
     "data": {
      "text/plain": [
       "\u001b[36mhtmlDet\u001b[0m: \u001b[32mString\u001b[0m = \u001b[32m\"\"\"\n",
       "<!DOCTYPE html>\n",
       "<!--[if IE 8]>\n",
       "<html class=\"no-js lt-ie9\"> <![endif]-->\n",
       "<!--[if gt IE 8]><!-->\n",
       "<html class=\"no-js\" lang=\"it\" prefix=\"og: http://ogp.me/ns# fb: http://ogp.me/ns/fb# immobiliare_it: http://ogp.me/ns/fb/immobiliare_it#\"> <!--<![endif]-->\n",
       "<head>\n",
       "    <script type=\"text/javascript\">\n",
       "  try{if(navigator.cookieEnabled){function readCookie(b){var f=b+\"=\";var a=document.cookie.split(\";\");for(var d=0;d<a.length;d++){var g=a[d];while(g.charAt(0)==\" \"){g=g.substring(1,g.length)}if(g.indexOf(f)==0){return g.substring(f.length,g.length)}}return null}}}catch(e){};\n",
       "</script>      <meta http-equiv=\"Content-Type\" content=\"text/html; charset=utf-8\"/>\n",
       "      <link rel=\"canonical\" href=\"http://www.immobiliare.it/57460850-Vendita-Quadrilocale-via-Giovanni-Antonio-Amadeo-Milano.html\"/>\n",
       "          <link rel=\"alternate\" media=\"only screen and (max-width: 640px)\" href=\"http://m.immobiliare.it/57460850-Vendita-Quadrilocale-via-Giovanni-Antonio-Amadeo-Milano.html\" >\n",
       "\u001b[33m...\u001b[0m"
      ]
     },
     "metadata": {},
     "output_type": "display_data"
    }
   ],
   "source": [
    "val htmlDet = Http(urlDet).asString.body "
   ]
  },
  {
   "cell_type": "code",
   "execution_count": 5,
   "metadata": {
    "collapsed": false
   },
   "outputs": [
    {
     "data": {
      "text/plain": [
       "\u001b[36mdocDet\u001b[0m: \u001b[32mnet\u001b[0m.\u001b[32mruippeixotog\u001b[0m.\u001b[32mscalascraper\u001b[0m.\u001b[32mmodel\u001b[0m.\u001b[32mDocument\u001b[0m = JsoupDocument(<!doctype html>\n",
       "<!--[if IE 8]>\n",
       "<html class=\"no-js lt-ie9\"> <![endif]-->\n",
       "<!--[if gt IE 8]><!-->\n",
       "<html class=\"no-js\" lang=\"it\" prefix=\"og: http://ogp.me/ns# fb: http://ogp.me/ns/fb# immobiliare_it: http://ogp.me/ns/fb/immobiliare_it#\">\n",
       " <!--<![endif]-->\n",
       " <head> \n",
       "  <script type=\"text/javascript\">\n",
       "  try{if(navigator.cookieEnabled){function readCookie(b){var f=b+\"=\";var a=document.cookie.split(\";\");for(var d=0;d<a.length;d++){var g=a[d];while(g.charAt(0)==\" \"){g=g.substring(1,g.length)}if(g.indexOf(f)==0){return g.substring(f.length,g.length)}}return null}}}catch(e){};\n",
       "</script> \n",
       "  <meta http-equiv=\"Content-Type\" content=\"text/html; charset=utf-8\"> \n",
       "  <link rel=\"canonical\" href=\"http://www.immobiliare.it/57460850-Vendita-Quadrilocale-via-Giovanni-Antonio-Amadeo-Milano.html\"> \n",
       "  <link rel=\"alternate\" media=\"only screen and (max-width: 640px)\" href=\"http://m.immobiliare.it/57460850-Vendita-Quadrilocale-via-Giovanni-Antonio-Amadeo-Milano.html\"> \n",
       "\u001b[33m...\u001b[0m"
      ]
     },
     "metadata": {},
     "output_type": "display_data"
    }
   ],
   "source": [
    "val docDet = browser.parseString(htmlDet)"
   ]
  },
  {
   "cell_type": "code",
   "execution_count": 6,
   "metadata": {
    "collapsed": false
   },
   "outputs": [
    {
     "data": {
      "text/plain": [
       "\u001b[36mdescription\u001b[0m: \u001b[32mOption\u001b[0m[\u001b[32mString\u001b[0m] = \u001b[33mSome\u001b[0m(\n",
       "  \u001b[32m\"AMPIO E LUMINOSO 4 LOCALI composto da: ingresso su disimpegno, grande soggiorno, cucina, due camere matrimoniali, una cameretta, bagno, due ripostigli, due balconi e cantina. Doppia esposizione. Servizio di portineria. Libero subito. Classe energetica: F. Indice di prestazione energetica (ipe): 160,00 kwh/m2a. Per ulteriori informazioni o per fissare appuntamenti contattateci senza impegno ai nostri recapiti. DG CONSULENZE IMMOBILIARI. Viale Corsica, 76. Tel. 0245485149. Devi vendere o affittare casa? Ti piacerebbe sapere il suo valore? Affidati a noi, stime gratuite e senza impegno. www.dgconsulenze.com\"\u001b[0m\n",
       ")"
      ]
     },
     "metadata": {},
     "output_type": "display_data"
    }
   ],
   "source": [
    "val description = docDet >?> text(\"div.description-text\")"
   ]
  },
  {
   "cell_type": "code",
   "execution_count": 20,
   "metadata": {
    "collapsed": false
   },
   "outputs": [
    {
     "data": {
      "text/plain": [
       "\u001b[36mkeys\u001b[0m: \u001b[32mIterable\u001b[0m[\u001b[32mString\u001b[0m] = \u001b[33mList\u001b[0m(\n",
       "  \u001b[32m\"Riferimento e Data annuncio\"\u001b[0m,\n",
       "  \u001b[32m\"Contratto\"\u001b[0m,\n",
       "  \u001b[32m\"Tipologia\"\u001b[0m,\n",
       "  \u001b[32m\"Superficie\"\u001b[0m,\n",
       "  \u001b[32m\"Locali\"\u001b[0m,\n",
       "  \u001b[32m\"Piano\"\u001b[0m,\n",
       "  \u001b[32m\"Disponibilità\"\u001b[0m,\n",
       "  \u001b[32m\"Tipo proprietà\"\u001b[0m,\n",
       "  \u001b[32m\"Prezzo\"\u001b[0m,\n",
       "  \u001b[32m\"Anno di costruzione\"\u001b[0m,\n",
       "  \u001b[32m\"Stato\"\u001b[0m,\n",
       "  \u001b[32m\"Riscaldamento\"\u001b[0m,\n",
       "  \u001b[32m\"Impianto di condizionamento\"\u001b[0m,\n",
       "  \u001b[32m\"Indice di prestazione energetica globale (EPgl,nren)\"\u001b[0m,\n",
       "  \u001b[32m\"Classe energetica\"\u001b[0m\n",
       ")\n",
       "\u001b[36mvalues\u001b[0m: \u001b[32mIterable\u001b[0m[\u001b[32mString\u001b[0m] = \u001b[33mList\u001b[0m(\n",
       "  \u001b[32m\"4 Locali Via Amadeo - 29/07/2016\"\u001b[0m,\n",
       "  \u001b[32m\"Vendita\"\u001b[0m,\n",
       "  \u001b[32m\"Appartamento\"\u001b[0m,\n",
       "  \u001b[32m\"110 m²\"\u001b[0m,\n",
       "  \u001b[32m\"3 camere, 1 bagno, cucinotto\"\u001b[0m,\n",
       "  \u001b[32m\"1° di 6 piani, con ascensore\"\u001b[0m,\n",
       "  \u001b[32m\"Libero\"\u001b[0m,\n",
       "  \u001b[32m\"Intera proprietà, classe immobile media\"\u001b[0m,\n",
       "  \u001b[32m\"Vendita € 275.000  Mutuo da € 1.166/mese\"\u001b[0m,\n",
       "  \u001b[32m\"1970\"\u001b[0m,\n",
       "  \u001b[32m\"Da ristrutturare\"\u001b[0m,\n",
       "  \u001b[32m\"Centralizzato\"\u001b[0m,\n",
       "  \u001b[32m\"Presente\"\u001b[0m,\n",
       "  \u001b[32m\"160,00 kWh/m²a\"\u001b[0m,\n",
       "  \u001b[32m\"F\"\u001b[0m\n",
       ")"
      ]
     },
     "metadata": {},
     "output_type": "display_data"
    }
   ],
   "source": [
    "val keys = docDet >> texts(\"dl > dt\") \n",
    "val values = docDet >> texts(\"dl > dd\")"
   ]
  },
  {
   "cell_type": "code",
   "execution_count": 21,
   "metadata": {
    "collapsed": false
   },
   "outputs": [
    {
     "data": {
      "text/plain": [
       "\u001b[36mmapDetails\u001b[0m: \u001b[32mMap\u001b[0m[\u001b[32mString\u001b[0m, \u001b[32mString\u001b[0m] = \u001b[33mMap\u001b[0m(\n",
       "  \u001b[32m\"Riscaldamento\"\u001b[0m -> \u001b[32m\"Centralizzato\"\u001b[0m,\n",
       "  \u001b[32m\"Tipologia\"\u001b[0m -> \u001b[32m\"Appartamento\"\u001b[0m,\n",
       "  \u001b[32m\"Piano\"\u001b[0m -> \u001b[32m\"1° di 6 piani, con ascensore\"\u001b[0m,\n",
       "  \u001b[32m\"Superficie\"\u001b[0m -> \u001b[32m\"110 m²\"\u001b[0m,\n",
       "  \u001b[32m\"Classe energetica\"\u001b[0m -> \u001b[32m\"F\"\u001b[0m,\n",
       "  \u001b[32m\"Locali\"\u001b[0m -> \u001b[32m\"3 camere, 1 bagno, cucinotto\"\u001b[0m,\n",
       "  \u001b[32m\"Prezzo\"\u001b[0m -> \u001b[32m\"Vendita € 275.000  Mutuo da € 1.166/mese\"\u001b[0m,\n",
       "  \u001b[32m\"Contratto\"\u001b[0m -> \u001b[32m\"Vendita\"\u001b[0m,\n",
       "  \u001b[32m\"Impianto di condizionamento\"\u001b[0m -> \u001b[32m\"Presente\"\u001b[0m,\n",
       "  \u001b[32m\"Riferimento e Data annuncio\"\u001b[0m -> \u001b[32m\"4 Locali Via Amadeo - 29/07/2016\"\u001b[0m,\n",
       "  \u001b[32m\"Indice di prestazione energetica globale (EPgl,nren)\"\u001b[0m -> \u001b[32m\"160,00 kWh/m²a\"\u001b[0m,\n",
       "  \u001b[32m\"Anno di costruzione\"\u001b[0m -> \u001b[32m\"1970\"\u001b[0m,\n",
       "  \u001b[32m\"Tipo proprietà\"\u001b[0m -> \u001b[32m\"Intera proprietà, classe immobile media\"\u001b[0m,\n",
       "  \u001b[32m\"Stato\"\u001b[0m -> \u001b[32m\"Da ristrutturare\"\u001b[0m,\n",
       "  \u001b[32m\"Disponibilità\"\u001b[0m -> \u001b[32m\"Libero\"\u001b[0m\n",
       ")"
      ]
     },
     "metadata": {},
     "output_type": "display_data"
    }
   ],
   "source": [
    "val mapDetails = keys.zip(values).toMap"
   ]
  }
 ],
 "metadata": {
  "kernelspec": {
   "display_name": "Scala 2.11",
   "language": "scala211",
   "name": "scala211"
  },
  "language_info": {
   "codemirror_mode": "text/x-scala",
   "file_extension": ".scala",
   "mimetype": "text/x-scala",
   "name": "scala211",
   "pygments_lexer": "scala",
   "version": "2.11.8"
  }
 },
 "nbformat": 4,
 "nbformat_minor": 0
}
