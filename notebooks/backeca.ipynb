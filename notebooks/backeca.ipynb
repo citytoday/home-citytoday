{
 "cells": [
  {
   "cell_type": "code",
   "execution_count": 1,
   "metadata": {
    "collapsed": false
   },
   "outputs": [
    {
     "name": "stdout",
     "output_type": "stream",
     "text": [
      "31 new artifact(s)"
     ]
    },
    {
     "name": "stderr",
     "output_type": "stream",
     "text": [
      "31 new artifacts in macro"
     ]
    },
    {
     "name": "stdout",
     "output_type": "stream",
     "text": [
      "\n"
     ]
    },
    {
     "name": "stderr",
     "output_type": "stream",
     "text": [
      "\n",
      "31 new artifacts in runtime\n",
      "31 new artifacts in compile\n"
     ]
    },
    {
     "data": {
      "text/plain": []
     },
     "metadata": {},
     "output_type": "display_data"
    }
   ],
   "source": [
    "classpath.add(\n",
    "  \"org.jsoup\" % \"jsoup\" % \"1.9.2\",\n",
    "  \"org.scalaj\" %% \"scalaj-http\" % \"2.3.0\",\n",
    "  \"net.sourceforge.htmlcleaner\" % \"htmlcleaner\" % \"2.16\",\n",
    "  \"net.ruippeixotog\" %% \"scala-scraper\" % \"1.0.0\"\n",
    ")"
   ]
  },
  {
   "cell_type": "code",
   "execution_count": 20,
   "metadata": {
    "collapsed": false
   },
   "outputs": [
    {
     "data": {
      "text/plain": [
       "\u001b[32mimport \u001b[36mnet.ruippeixotog.scalascraper.dsl.DSL._\u001b[0m\n",
       "\u001b[32mimport \u001b[36mnet.ruippeixotog.scalascraper.dsl.DSL.Extract._\u001b[0m\n",
       "\u001b[32mimport \u001b[36mnet.ruippeixotog.scalascraper.dsl.DSL.Parse._\u001b[0m\n",
       "\u001b[32mimport \u001b[36mnet.ruippeixotog.scalascraper.browser.JsoupBrowser\u001b[0m\n",
       "\u001b[32mimport \u001b[36morg.joda.time.DateTime\u001b[0m\n",
       "\u001b[32mimport \u001b[36mjava.net.URL\u001b[0m\n",
       "defined \u001b[32mobject \u001b[36mUtils\u001b[0m\n",
       "\u001b[32mimport \u001b[36mscalaj.http._\u001b[0m\n",
       "\u001b[36mbrowser\u001b[0m: \u001b[32mJsoupBrowser\u001b[0m = net.ruippeixotog.scalascraper.browser.JsoupBrowser@5b9c7048"
      ]
     },
     "metadata": {},
     "output_type": "display_data"
    }
   ],
   "source": [
    "import net.ruippeixotog.scalascraper.dsl.DSL._\n",
    "import net.ruippeixotog.scalascraper.dsl.DSL.Extract._\n",
    "import net.ruippeixotog.scalascraper.dsl.DSL.Parse._\n",
    "import net.ruippeixotog.scalascraper.browser.JsoupBrowser\n",
    "import org.joda.time.DateTime\n",
    "\n",
    "import java.net.URL\n",
    "\n",
    "/**\n",
    " * Created by fabiofumarola on 13/08/16.\n",
    " */\n",
    "object Utils {\n",
    "\n",
    "  /**\n",
    "    *\n",
    "    * @param absolute\n",
    "    * @param relative\n",
    "    * @return the absolute url obtained from the relative one\n",
    "    */\n",
    "  def makeUrlAbsolute(absolute: String, relative: String): String = {\n",
    "      val base = new URL(absolute)\n",
    "      new URL(base, relative).toExternalForm\n",
    "\n",
    "  }\n",
    "    \n",
    "  def nowToString() = DateTime.now.toString(\"YYYY-MM-dd HH:mm::ss\")\n",
    "}\n",
    "\n",
    "import scalaj.http._\n",
    "\n",
    "val browser = JsoupBrowser()"
   ]
  },
  {
   "cell_type": "code",
   "execution_count": 21,
   "metadata": {
    "collapsed": false
   },
   "outputs": [
    {
     "data": {
      "text/plain": [
       "\u001b[36mpage\u001b[0m: \u001b[32mInt\u001b[0m = \u001b[32m1\u001b[0m\n",
       "\u001b[36murlList\u001b[0m: \u001b[32mString\u001b[0m = \u001b[32m\"http://milano.bakeca.it/annunci/vendita-case/luogo/Milano/mqcaseinvendita/80-0/page/1/nope/true/\"\u001b[0m"
      ]
     },
     "metadata": {},
     "output_type": "display_data"
    }
   ],
   "source": [
    "val page = 1\n",
    "val urlList = s\"http://milano.bakeca.it/annunci/vendita-case/luogo/Milano/mqcaseinvendita/80-0/page/$page/nope/true/\""
   ]
  },
  {
   "cell_type": "code",
   "execution_count": 22,
   "metadata": {
    "collapsed": false
   },
   "outputs": [
    {
     "data": {
      "text/plain": [
       "\u001b[36mhtml\u001b[0m: \u001b[32mString\u001b[0m = \u001b[32m\"\"\"\n",
       "                                                  <!DOCTYPE html>\r\n",
       "\r\n",
       "<html lang=\"it_IT\">\r\n",
       "\r\n",
       "    <head>\r\n",
       "         <meta charset=\"utf-8\">\r\n",
       "        <meta http-equiv=\"Content-Type\" content=\"text/html; charset=utf-8\">\r\n",
       "        <meta http-equiv=\"X-UA-Compatible\" content=\"IE=edge,chrome=1\">\r\n",
       "        <meta name=\"description\" content=\"Bakeca: annunci immobiliari  di case e appartamenti in vendita Milano .\" />\n",
       "<meta name=\"robots\" content=\"NOINDEX, FOLLOW\" />\r\n",
       "        \r\n",
       "        <title>Annunci di case in vendita  Milano  su Bakeca</title>\r\n",
       "        <base href=\"http://milano.bakeca.it/\">\r\n",
       "\r\n",
       "        <!-- seo -->\r\n",
       "        <link rel=\"canonical\" href=\"http://milano.bakeca.it/annunci/vendita-case/luogo/Milano/mqcaseinvendita/80-0/nope/true/\">        <link rel=\"alternate\" media=\"only screen and (max-width:640px)\" href=\"http://milano.m.bakeca.it/annunci/v\u001b[33m...\u001b[0m\n",
       "\u001b[36mdocList\u001b[0m: \u001b[32mnet\u001b[0m.\u001b[32mruippeixotog\u001b[0m.\u001b[32mscalascraper\u001b[0m.\u001b[32mmodel\u001b[0m.\u001b[32mDocument\u001b[0m = JsoupDocument(<!doctype html>\n",
       "<html lang=\"it_IT\">\n",
       " <head> \n",
       "  <meta charset=\"utf-8\"> \n",
       "  <meta http-equiv=\"Content-Type\" content=\"text/html; charset=utf-8\"> \n",
       "  <meta http-equiv=\"X-UA-Compatible\" content=\"IE=edge,chrome=1\"> \n",
       "  <meta name=\"description\" content=\"Bakeca: annunci immobiliari  di case e appartamenti in vendita Milano .\"> \n",
       "  <meta name=\"robots\" content=\"NOINDEX, FOLLOW\"> \n",
       "  <title>Annunci di case in vendita  Milano  su Bakeca</title> \n",
       "  <base href=\"http://milano.bakeca.it/\"> \n",
       "  <!-- seo --> \n",
       "  <link rel=\"canonical\" href=\"http://milano.bakeca.it/annunci/vendita-case/luogo/Milano/mqcaseinvendita/80-0/nope/true/\"> \n",
       "  <link rel=\"alternate\" media=\"only screen and (max-width:640px)\" href=\"http://milano.m.bakeca.it/annunci/vendita-case/luogo/Milano/mqcaseinvendita/80-0/nope/true/\"> \n",
       "  <!-- / seo --> \n",
       "  <script>\r\n",
       "            if( self != top )\r\n",
       "\u001b[33m...\u001b[0m"
      ]
     },
     "metadata": {},
     "output_type": "display_data"
    }
   ],
   "source": [
    "val html = Http(urlList).asString.body\n",
    "val docList = browser.parseString(html)"
   ]
  },
  {
   "cell_type": "code",
   "execution_count": 23,
   "metadata": {
    "collapsed": false
   },
   "outputs": [
    {
     "data": {
      "text/plain": [
       "\u001b[36mlistings\u001b[0m: \u001b[32mList\u001b[0m[\u001b[32mnet\u001b[0m.\u001b[32mruippeixotog\u001b[0m.\u001b[32mscalascraper\u001b[0m.\u001b[32mmodel\u001b[0m.\u001b[32mElement\u001b[0m] = \u001b[33mList\u001b[0m(\n",
       "  JsoupElement(<div class=\"bk-annuncio-item bk-sezione-case bk-annuncio-cliente bk-even\" data-id=\"bttb118006372\" data-bk-geolocation=\"45.437335,9.193876\"> \n",
       " <div class=\"bk-annuncio-photo\"> \n",
       "  <figure> \n",
       "   <a href=\"http://milano.bakeca.it/dettaglio/vendita-case/via-verro-palazzina-recente-bttb118006372?from-premium\"> <img class=\"bk-lazy\" data-original=\"http://static.bakeca.it/immagini/3a7/3a7060ac02059eea1973da580251821d_228_208_crop.jpg\"> </a> \n",
       "   <span class=\"bk-annuncio-label-toplist\"></span> \n",
       "   <span class=\"bk-annuncio-label-nimg\">8</span> \n",
       "  </figure> \n",
       " </div> \n",
       " <div class=\"bk-annuncio-content\"> \n",
       "  <h3 class=\"bk-annuncio-title\"><a href=\"http://milano.bakeca.it/dettaglio/vendita-case/via-verro-palazzina-recente-bttb118006372?from-premium\">Via Verro palazzina recente 3locali con doppi servizi</a></h3> \n",
       "  <p class=\"bk-annuncio-meta\">115 mq · trilocale</p> \n",
       "  <p class=\"bk-annuncio-description\">appartamento di 115 mq ca. sito a milano, posto al 1° piano, composto da: salone …</p> \n",
       "\u001b[33m...\u001b[0m"
      ]
     },
     "metadata": {},
     "output_type": "display_data"
    }
   ],
   "source": [
    "val listings = docList >> elementList(\"div.bk-annuncio-item\")"
   ]
  },
  {
   "cell_type": "code",
   "execution_count": 24,
   "metadata": {
    "collapsed": false
   },
   "outputs": [
    {
     "data": {
      "text/plain": [
       "\u001b[36me\u001b[0m: \u001b[32mnet\u001b[0m.\u001b[32mruippeixotog\u001b[0m.\u001b[32mscalascraper\u001b[0m.\u001b[32mmodel\u001b[0m.\u001b[32mElement\u001b[0m = JsoupElement(<div class=\"bk-annuncio-item bk-sezione-case bk-annuncio-cliente bk-even\" data-id=\"bttb118006372\" data-bk-geolocation=\"45.437335,9.193876\"> \n",
       " <div class=\"bk-annuncio-photo\"> \n",
       "  <figure> \n",
       "   <a href=\"http://milano.bakeca.it/dettaglio/vendita-case/via-verro-palazzina-recente-bttb118006372?from-premium\"> <img class=\"bk-lazy\" data-original=\"http://static.bakeca.it/immagini/3a7/3a7060ac02059eea1973da580251821d_228_208_crop.jpg\"> </a> \n",
       "   <span class=\"bk-annuncio-label-toplist\"></span> \n",
       "   <span class=\"bk-annuncio-label-nimg\">8</span> \n",
       "  </figure> \n",
       " </div> \n",
       " <div class=\"bk-annuncio-content\"> \n",
       "  <h3 class=\"bk-annuncio-title\"><a href=\"http://milano.bakeca.it/dettaglio/vendita-case/via-verro-palazzina-recente-bttb118006372?from-premium\">Via Verro palazzina recente 3locali con doppi servizi</a></h3> \n",
       "  <p class=\"bk-annuncio-meta\">115 mq · trilocale</p> \n",
       "  <p class=\"bk-annuncio-description\">appartamento di 115 mq ca. sito a milano, posto al 1° piano, composto da: salone …</p> \n",
       "  <p class=\"bk-annuncio-breadcrumb\"><strong>Bocconi/Ticinese</strong></p> \n",
       "\u001b[33m...\u001b[0m"
      ]
     },
     "metadata": {},
     "output_type": "display_data"
    }
   ],
   "source": [
    "val e = listings.head"
   ]
  },
  {
   "cell_type": "code",
   "execution_count": 25,
   "metadata": {
    "collapsed": false
   },
   "outputs": [
    {
     "data": {
      "text/plain": [
       "\u001b[36mid\u001b[0m: \u001b[32mOption\u001b[0m[\u001b[32mString\u001b[0m] = \u001b[33mSome\u001b[0m(\u001b[32m\"bttb118006372\"\u001b[0m)"
      ]
     },
     "metadata": {},
     "output_type": "display_data"
    }
   ],
   "source": [
    "val id = e >?> attr(\"data-id\")(\"div\")"
   ]
  },
  {
   "cell_type": "code",
   "execution_count": 26,
   "metadata": {
    "collapsed": false
   },
   "outputs": [
    {
     "data": {
      "text/plain": [
       "\u001b[36mtitle\u001b[0m: \u001b[32mOption\u001b[0m[\u001b[32mString\u001b[0m] = \u001b[33mSome\u001b[0m(\u001b[32m\"Via Verro palazzina recente 3locali con doppi servizi\"\u001b[0m)"
      ]
     },
     "metadata": {},
     "output_type": "display_data"
    }
   ],
   "source": [
    "val title = e >?> text(\"h3.bk-annuncio-title\")"
   ]
  },
  {
   "cell_type": "code",
   "execution_count": 27,
   "metadata": {
    "collapsed": false
   },
   "outputs": [
    {
     "data": {
      "text/plain": [
       "\u001b[36murl\u001b[0m: \u001b[32mOption\u001b[0m[\u001b[32mString\u001b[0m] = \u001b[33mSome\u001b[0m(\n",
       "  \u001b[32m\"http://milano.bakeca.it/dettaglio/vendita-case/via-verro-palazzina-recente-bttb118006372?from-premium\"\u001b[0m\n",
       ")"
      ]
     },
     "metadata": {},
     "output_type": "display_data"
    }
   ],
   "source": [
    "val url = e >?> attr(\"href\")(\"h3.bk-annuncio-title > a\")"
   ]
  },
  {
   "cell_type": "code",
   "execution_count": 28,
   "metadata": {
    "collapsed": false
   },
   "outputs": [
    {
     "data": {
      "text/plain": [
       "\u001b[36mprice\u001b[0m: \u001b[32mOption\u001b[0m[\u001b[32mString\u001b[0m] = \u001b[33mSome\u001b[0m(\u001b[32m\"415.000\"\u001b[0m)"
      ]
     },
     "metadata": {},
     "output_type": "display_data"
    }
   ],
   "source": [
    "val price = e >?> text(\"span.bk-annuncio-prezzo\")"
   ]
  },
  {
   "cell_type": "code",
   "execution_count": 29,
   "metadata": {
    "collapsed": false
   },
   "outputs": [
    {
     "data": {
      "text/plain": [
       "\u001b[36mcategory\u001b[0m: \u001b[32mOption\u001b[0m[\u001b[32mString\u001b[0m] = \u001b[33mSome\u001b[0m(\u001b[32m\"appartamenti\"\u001b[0m)"
      ]
     },
     "metadata": {},
     "output_type": "display_data"
    }
   ],
   "source": [
    "val category = Option(\"appartamenti\")"
   ]
  },
  {
   "cell_type": "code",
   "execution_count": 30,
   "metadata": {
    "collapsed": false
   },
   "outputs": [
    {
     "data": {
      "text/plain": [
       "\u001b[36mgeoLocation\u001b[0m: \u001b[32mOption\u001b[0m[\u001b[32mString\u001b[0m] = \u001b[33mSome\u001b[0m(\u001b[32m\"45.437335,9.193876\"\u001b[0m)"
      ]
     },
     "metadata": {},
     "output_type": "display_data"
    }
   ],
   "source": [
    "val geoLocation = e >?> attr(\"data-bk-geolocation\")(\"div\")"
   ]
  },
  {
   "cell_type": "code",
   "execution_count": 31,
   "metadata": {
    "collapsed": false
   },
   "outputs": [
    {
     "data": {
      "text/plain": [
       "\u001b[36mdateTime\u001b[0m: \u001b[32mOption\u001b[0m[\u001b[32mString\u001b[0m] = \u001b[33mSome\u001b[0m(\u001b[32m\"2016-08-17 17:46::19\"\u001b[0m)"
      ]
     },
     "metadata": {},
     "output_type": "display_data"
    }
   ],
   "source": [
    "val dateTime = Option(Utils.nowToString)"
   ]
  },
  {
   "cell_type": "code",
   "execution_count": 32,
   "metadata": {
    "collapsed": false
   },
   "outputs": [
    {
     "data": {
      "text/plain": [
       "\u001b[36mlocation\u001b[0m: \u001b[32mOption\u001b[0m[\u001b[32mString\u001b[0m] = \u001b[33mSome\u001b[0m(\u001b[32m\"Bocconi/Ticinese\"\u001b[0m)"
      ]
     },
     "metadata": {},
     "output_type": "display_data"
    }
   ],
   "source": [
    "val location = e >?> text(\"p.bk-annuncio-breadcrumb\")"
   ]
  },
  {
   "cell_type": "markdown",
   "metadata": {},
   "source": [
    "## Details"
   ]
  },
  {
   "cell_type": "code",
   "execution_count": 33,
   "metadata": {
    "collapsed": false
   },
   "outputs": [
    {
     "data": {
      "text/plain": [
       "\u001b[36murlDet\u001b[0m: \u001b[32mString\u001b[0m = \u001b[32m\"http://milano.bakeca.it/dettaglio/vendita-case/v000161-trilocale-nwfb123509860?from-premium\"\u001b[0m\n",
       "\u001b[36mhtml\u001b[0m: \u001b[32mString\u001b[0m = \u001b[32m\"\"\"\n",
       "  \r\n",
       "    <!DOCTYPE html>\r\n",
       "<html lang=\"it_IT\">\r\n",
       "    <head>\r\n",
       "         <meta charset=\"utf-8\">\r\n",
       "        <meta http-equiv=\"Content-Type\" content=\"text/html; charset=utf-8\">\r\n",
       "        <meta http-equiv=\"X-UA-Compatible\" content=\"IE=edge,chrome=1\">\r\n",
       "        <meta name=\"description\" content=\"Trilocale ancora allo stato grezzo da personalizzare, lavori compresi nel prezzo. Ampio ingresso con cucina abitabile soggiorno con terrazzo 2 camere da letto\" />\n",
       "<meta name=\"robots\" content=\"INDEX, FOLLOW\" />\r\n",
       "        <title>V000161 - trilocale - Annunci Milano</title>\r\n",
       "        <base href=\"http://milano.bakeca.it/\">\r\n",
       "        <!-- seo -->\r\n",
       "        <link rel=\"canonical\" href=\"http://milano.bakeca.it/dettaglio/vendita-case/v000161-trilocale-nwfb123509860\">        <link rel=\"alternate\" media=\"only screen and (max-width:640px)\" href=\"http://milano.m.bakeca.it/dettaglio/vendita-case/v000161-trilocale-nwfb123509860\">                        <meta property=\"og:title\" content=\"V000161 - trilocale\" /><meta property=\"og:description\" content=\"T\u001b[33m...\u001b[0m\n",
       "\u001b[36mdocDet\u001b[0m: \u001b[32mnet\u001b[0m.\u001b[32mruippeixotog\u001b[0m.\u001b[32mscalascraper\u001b[0m.\u001b[32mmodel\u001b[0m.\u001b[32mDocument\u001b[0m = JsoupDocument(<!doctype html>\n",
       "<html lang=\"it_IT\">\n",
       " <head> \n",
       "  <meta charset=\"utf-8\"> \n",
       "  <meta http-equiv=\"Content-Type\" content=\"text/html; charset=utf-8\"> \n",
       "  <meta http-equiv=\"X-UA-Compatible\" content=\"IE=edge,chrome=1\"> \n",
       "  <meta name=\"description\" content=\"Trilocale ancora allo stato grezzo da personalizzare, lavori compresi nel prezzo. Ampio ingresso con cucina abitabile soggiorno con terrazzo 2 camere da letto\"> \n",
       "  <meta name=\"robots\" content=\"INDEX, FOLLOW\"> \n",
       "  <title>V000161 - trilocale - Annunci Milano</title> \n",
       "  <base href=\"http://milano.bakeca.it/\"> \n",
       "  <!-- seo --> \n",
       "  <link rel=\"canonical\" href=\"http://milano.bakeca.it/dettaglio/vendita-case/v000161-trilocale-nwfb123509860\"> \n",
       "  <link rel=\"alternate\" media=\"only screen and (max-width:640px)\" href=\"http://milano.m.bakeca.it/dettaglio/vendita-case/v000161-trilocale-nwfb123509860\"> \n",
       "  <meta property=\"og:title\" content=\"V000161 - trilocale\">\n",
       "  <meta property=\"og:description\" content=\"Trilocale ancora allo stato grezzo da personalizzare, lavori compresi nel prezzo. Ampio ingresso con cucina abitabile\u001b[33m...\u001b[0m"
      ]
     },
     "metadata": {},
     "output_type": "display_data"
    }
   ],
   "source": [
    "val urlDet = \"http://milano.bakeca.it/dettaglio/vendita-case/v000161-trilocale-nwfb123509860?from-premium\"\n",
    "val html = Http(urlDet).asString.body\n",
    "val docDet = browser.parseString(html)"
   ]
  },
  {
   "cell_type": "code",
   "execution_count": 34,
   "metadata": {
    "collapsed": false
   },
   "outputs": [
    {
     "data": {
      "text/plain": [
       "\u001b[36mdescription\u001b[0m: \u001b[32mOption\u001b[0m[\u001b[32mString\u001b[0m] = \u001b[33mSome\u001b[0m(\n",
       "  \u001b[32m\"Inserzionista:  Agenzia Prezzo:  590.000 € Tipo Immobile:  trilocale Mq:  136 Classe energetica:  C, IPE 112,3 KWh/m² anno Quartiere:  Bicocca/Maciachini\"\u001b[0m\n",
       ")"
      ]
     },
     "metadata": {},
     "output_type": "display_data"
    }
   ],
   "source": [
    "val description = docDet >?> text(\"div.bk-dett-block-content\")"
   ]
  },
  {
   "cell_type": "code",
   "execution_count": 35,
   "metadata": {
    "collapsed": false
   },
   "outputs": [
    {
     "data": {
      "text/plain": [
       "\u001b[36mmapDetails\u001b[0m: \u001b[32mMap\u001b[0m[\u001b[32mString\u001b[0m, \u001b[32mString\u001b[0m] = \u001b[33mMap\u001b[0m(\n",
       "  \u001b[32m\"Inserzionista: \"\u001b[0m -> \u001b[32m\"Agenzia\"\u001b[0m,\n",
       "  \u001b[32m\"Tipo Immobile: \"\u001b[0m -> \u001b[32m\"trilocale\"\u001b[0m,\n",
       "  \u001b[32m\"Classe energetica: \"\u001b[0m -> \u001b[32m\"C, IPE 112,3 KWh/m² anno\"\u001b[0m,\n",
       "  \u001b[32m\"Prezzo: \"\u001b[0m -> \u001b[32m\"590.000 €\"\u001b[0m,\n",
       "  \u001b[32m\"Mq: \"\u001b[0m -> \u001b[32m\"136\"\u001b[0m,\n",
       "  \u001b[32m\"Quartiere: \"\u001b[0m -> \u001b[32m\"Bicocca/Maciachini\"\u001b[0m\n",
       ")"
      ]
     },
     "metadata": {},
     "output_type": "display_data"
    }
   ],
   "source": [
    "val mapDetails = (docDet >> elementList(\"table.bk-dett-meta > tbody > tr > td\"))\n",
    "  .filter(_.children.size > 0)\n",
    "  .map {e =>\n",
    "       \n",
    "       val key = e >> text(\"td > strong\")\n",
    "       val value = e >> text(\"td > span\")\n",
    "       key -> value\n",
    "       }.toMap\n"
   ]
  },
  {
   "cell_type": "code",
   "execution_count": 36,
   "metadata": {
    "collapsed": false
   },
   "outputs": [
    {
     "data": {
      "text/plain": [
       "\u001b[36mpublisher\u001b[0m: \u001b[32mOption\u001b[0m[\u001b[32mString\u001b[0m] = \u001b[33mSome\u001b[0m(\u001b[32m\"PIXIDIS REAL ESTATE D.I.\"\u001b[0m)"
      ]
     },
     "metadata": {},
     "output_type": "display_data"
    }
   ],
   "source": [
    "val publisher = docDet >?> text(\"div.bk-inserzionista-box-title\")"
   ]
  },
  {
   "cell_type": "code",
   "execution_count": 37,
   "metadata": {
    "collapsed": false
   },
   "outputs": [
    {
     "data": {
      "text/plain": [
       "\u001b[36mimagesUrl\u001b[0m: \u001b[32mIterable\u001b[0m[\u001b[32mString\u001b[0m] = \u001b[33mList\u001b[0m(\n",
       "  \u001b[32m\"http://static.bakeca.it/immagini/f47/f4739b9147ee10dfcf0725339f5eeefa.jpg\"\u001b[0m\n",
       ")"
      ]
     },
     "metadata": {},
     "output_type": "display_data"
    }
   ],
   "source": [
    "val imagesUrl = docDet >> attrs(\"src\")(\"div.swiper-slide.no-padding-bottom > img\")"
   ]
  },
  {
   "cell_type": "code",
   "execution_count": null,
   "metadata": {
    "collapsed": true
   },
   "outputs": [],
   "source": []
  },
  {
   "cell_type": "code",
   "execution_count": null,
   "metadata": {
    "collapsed": true
   },
   "outputs": [],
   "source": []
  }
 ],
 "metadata": {
  "kernelspec": {
   "display_name": "Scala 2.11",
   "language": "scala211",
   "name": "scala211"
  },
  "language_info": {
   "codemirror_mode": "text/x-scala",
   "file_extension": ".scala",
   "mimetype": "text/x-scala",
   "name": "scala211",
   "pygments_lexer": "scala",
   "version": "2.11.8"
  }
 },
 "nbformat": 4,
 "nbformat_minor": 0
}
